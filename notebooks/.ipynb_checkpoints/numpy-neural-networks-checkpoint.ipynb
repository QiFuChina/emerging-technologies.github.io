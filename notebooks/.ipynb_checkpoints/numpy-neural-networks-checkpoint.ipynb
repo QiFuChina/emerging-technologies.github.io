{
 "cells": [
  {
   "cell_type": "markdown",
   "metadata": {},
   "source": [
    "# Neural networks from scratch in numpy"
   ]
  },
  {
   "cell_type": "code",
   "execution_count": 1,
   "metadata": {
    "collapsed": true
   },
   "outputs": [],
   "source": [
    "import numpy as np"
   ]
  },
  {
   "cell_type": "code",
   "execution_count": 12,
   "metadata": {
    "collapsed": true
   },
   "outputs": [],
   "source": [
    "def activation(x):\n",
    "  return 1.0 / (1.0 + np.exp(-x))"
   ]
  },
  {
   "cell_type": "code",
   "execution_count": 2,
   "metadata": {
    "collapsed": true
   },
   "outputs": [],
   "source": [
    "def initialise(no_nodes, mean=0.0, std=1.0):\n",
    "  return np.array([np.random.normal(mean, std, [no_nodes[i], no_nodes[i-1] + 1]) for i in range(1, len(no_nodes))])"
   ]
  },
  {
   "cell_type": "code",
   "execution_count": 3,
   "metadata": {},
   "outputs": [],
   "source": [
    "def forward(nn, inputs):\n",
    "  outputs = inputs.transpose()\n",
    "  for w in nn:\n",
    "    outputs = np.vstack([outputs, np.ones(outputs.shape[1])])\n",
    "    outputs = np.matmul(w, outputs)\n",
    "    outputs = activation(outputs)\n",
    "  outputs = outputs.transpose()\n",
    "  return outputs"
   ]
  },
  {
   "cell_type": "code",
   "execution_count": 4,
   "metadata": {
    "scrolled": true
   },
   "outputs": [
    {
     "name": "stdout",
     "output_type": "stream",
     "text": [
      "[[ 0.07900082  0.01302528 -1.52862602]\n",
      " [ 2.25322861  0.67699278  2.010167  ]\n",
      " [-0.17595708  0.32275443 -0.23347076]\n",
      " [ 0.80864299 -0.85084155 -0.82805147]\n",
      " [-0.76581805  1.4309413   0.0300905 ]]\n",
      "[[ 0.33985675 -0.41751768 -1.53179772 -0.02441441  0.90380925  1.07260768]\n",
      " [ 0.26896394  1.97471632 -1.03584032  0.40989715 -0.8791625  -1.3190096 ]]\n",
      "[[ 0.66160539  0.35405146]\n",
      " [ 0.65475321  0.32512894]]\n"
     ]
    }
   ],
   "source": [
    "nn = initialise([2, 5, 2])\n",
    "p = forward(nn, np.array([[1, 2],[3,4]]))\n",
    "\n",
    "for i in nn:\n",
    "  print(i)\n",
    "print(p)"
   ]
  },
  {
   "cell_type": "code",
   "execution_count": 15,
   "metadata": {
    "collapsed": true
   },
   "outputs": [],
   "source": [
    "inputs = np.random.uniform(0, 1, [1000, 2])\n",
    "actuals = np.column_stack([inputs[:, 0] <= inputs[:, 1], inputs[:, 0] > inputs[:, 1]]).astype(float)"
   ]
  },
  {
   "cell_type": "code",
   "execution_count": 16,
   "metadata": {},
   "outputs": [
    {
     "data": {
      "image/png": "[encoded data removed]",
      "text/plain": [
       "<matplotlib.figure.Figure at 0x257038babe0>"
      ]
     },
     "metadata": {},
     "output_type": "display_data"
    }
   ],
   "source": [
    "import matplotlib.pyplot as pl\n",
    "\n",
    "blue = inputs[inputs[:, 0] <= inputs[:, 1]]\n",
    "yell = inputs[inputs[:, 0] > inputs[:, 1]]\n",
    "\n",
    "pl.plot(blue[:,0], blue[:,1], 'b.')\n",
    "pl.plot(yell[:,0], yell[:,1], 'y.')\n",
    "\n",
    "pl.show()"
   ]
  },
  {
   "cell_type": "code",
   "execution_count": 17,
   "metadata": {
    "collapsed": true
   },
   "outputs": [],
   "source": [
    "preds = forward(nn, inputs)"
   ]
  },
  {
   "cell_type": "code",
   "execution_count": 18,
   "metadata": {
    "collapsed": true
   },
   "outputs": [],
   "source": [
    "def cost(actuals, preds):\n",
    "  return 0.5 * (actuals - preds)**2"
   ]
  },
  {
   "cell_type": "code",
   "execution_count": 19,
   "metadata": {},
   "outputs": [
    {
     "data": {
      "text/plain": [
       "array([[ 0.06019551,  0.07449516],\n",
       "       [ 0.06783591,  0.09289418],\n",
       "       [ 0.17931636,  0.10508013],\n",
       "       ..., \n",
       "       [ 0.18319603,  0.11516799],\n",
       "       [ 0.06260653,  0.08631165],\n",
       "       [ 0.06346502,  0.09145266]])"
      ]
     },
     "execution_count": 19,
     "metadata": {},
     "output_type": "execute_result"
    }
   ],
   "source": [
    "cost(actuals, preds)"
   ]
  },
  {
   "cell_type": "code",
   "execution_count": 20,
   "metadata": {},
   "outputs": [
    {
     "data": {
      "text/plain": [
       "array([[-0.07861846,  0.09148115],\n",
       "       [-0.08569893,  0.10570768],\n",
       "       [ 0.1438621 , -0.11381599],\n",
       "       ..., \n",
       "       [ 0.14461375, -0.11979007],\n",
       "       [-0.08090585,  0.10090184],\n",
       "       [-0.08170837,  0.10468141]])"
      ]
     },
     "execution_count": 20,
     "metadata": {},
     "output_type": "execute_result"
    }
   ],
   "source": [
    "preds * (1.0 - preds) * -(actuals - preds)"
   ]
  },
  {
   "cell_type": "code",
   "execution_count": null,
   "metadata": {
    "collapsed": true
   },
   "outputs": [],
   "source": []
  }
 ],
 "metadata": {
  "kernelspec": {
   "display_name": "Python 3",
   "language": "python",
   "name": "python3"
  },
  "language_info": {
   "codemirror_mode": {
    "name": "ipython",
    "version": 3
   },
   "file_extension": ".py",
   "mimetype": "text/x-python",
   "name": "python",
   "nbconvert_exporter": "python",
   "pygments_lexer": "ipython3",
   "version": "3.6.2"
  }
 },
 "nbformat": 4,
 "nbformat_minor": 2
}
