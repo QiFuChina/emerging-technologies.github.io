{
 "cells": [
  {
   "cell_type": "code",
   "execution_count": 1,
   "metadata": {
    "collapsed": true
   },
   "outputs": [],
   "source": [
    "import tensorflow as tf"
   ]
  },
  {
   "cell_type": "code",
   "execution_count": 2,
   "metadata": {},
   "outputs": [
    {
     "name": "stdout",
     "output_type": "stream",
     "text": [
      "Tensor(\"Const:0\", shape=(), dtype=float32) Tensor(\"Const_1:0\", shape=(), dtype=float32)\n"
     ]
    }
   ],
   "source": [
    "node1 = tf.constant(3.0, dtype=tf.float32)\n",
    "node2 = tf.constant(4.0) # also tf.float32 implicitly\n",
    "print(node1, node2)"
   ]
  },
  {
   "cell_type": "code",
   "execution_count": 3,
   "metadata": {},
   "outputs": [
    {
     "name": "stdout",
     "output_type": "stream",
     "text": [
      "[3.0, 4.0]\n"
     ]
    }
   ],
   "source": [
    "sess = tf.Session()\n",
    "print(sess.run([node1, node2]))"
   ]
  },
  {
   "cell_type": "code",
   "execution_count": 4,
   "metadata": {},
   "outputs": [
    {
     "name": "stdout",
     "output_type": "stream",
     "text": [
      "node3: Tensor(\"Add:0\", shape=(), dtype=float32)\n",
      "sess.run(node3): 7.0\n"
     ]
    }
   ],
   "source": [
    "node3 = tf.add(node1, node2)\n",
    "print(\"node3:\", node3)\n",
    "print(\"sess.run(node3):\", sess.run(node3))"
   ]
  },
  {
   "cell_type": "code",
   "execution_count": 5,
   "metadata": {
    "collapsed": true
   },
   "outputs": [],
   "source": [
    "a = tf.placeholder(tf.float32)\n",
    "b = tf.placeholder(tf.float32)\n",
    "adder_node = a + b  # + provides a shortcut for tf.add(a, b)"
   ]
  },
  {
   "cell_type": "code",
   "execution_count": 6,
   "metadata": {},
   "outputs": [
    {
     "name": "stdout",
     "output_type": "stream",
     "text": [
      "7.5\n",
      "[ 3.  7.]\n"
     ]
    }
   ],
   "source": [
    "print(sess.run(adder_node, {a: 3, b: 4.5}))\n",
    "print(sess.run(adder_node, {a: [1, 3], b: [2, 4]}))"
   ]
  },
  {
   "cell_type": "code",
   "execution_count": 7,
   "metadata": {},
   "outputs": [
    {
     "name": "stdout",
     "output_type": "stream",
     "text": [
      "22.5\n"
     ]
    }
   ],
   "source": [
    "add_and_triple = adder_node * 3.\n",
    "print(sess.run(add_and_triple, {a: 3, b: 4.5}))"
   ]
  },
  {
   "cell_type": "code",
   "execution_count": 8,
   "metadata": {
    "collapsed": true
   },
   "outputs": [],
   "source": [
    "W = tf.Variable([.3], dtype=tf.float32)\n",
    "b = tf.Variable([-.3], dtype=tf.float32)\n",
    "x = tf.placeholder(tf.float32)\n",
    "linear_model = W * x + b"
   ]
  },
  {
   "cell_type": "code",
   "execution_count": 9,
   "metadata": {
    "collapsed": true
   },
   "outputs": [],
   "source": [
    "init = tf.global_variables_initializer()\n",
    "sess.run(init)"
   ]
  },
  {
   "cell_type": "code",
   "execution_count": 10,
   "metadata": {},
   "outputs": [
    {
     "name": "stdout",
     "output_type": "stream",
     "text": [
      "[ 0.          0.30000001  0.60000002  0.90000004]\n"
     ]
    }
   ],
   "source": [
    "print(sess.run(linear_model, {x: [1, 2, 3, 4]}))"
   ]
  },
  {
   "cell_type": "code",
   "execution_count": 11,
   "metadata": {},
   "outputs": [
    {
     "name": "stdout",
     "output_type": "stream",
     "text": [
      "23.66\n"
     ]
    }
   ],
   "source": [
    "y = tf.placeholder(tf.float32)\n",
    "squared_deltas = tf.square(linear_model - y)\n",
    "loss = tf.reduce_sum(squared_deltas)\n",
    "print(sess.run(loss, {x: [1, 2, 3, 4], y: [0, -1, -2, -3]}))"
   ]
  },
  {
   "cell_type": "code",
   "execution_count": 12,
   "metadata": {},
   "outputs": [
    {
     "name": "stdout",
     "output_type": "stream",
     "text": [
      "0.0\n"
     ]
    }
   ],
   "source": [
    "fixW = tf.assign(W, [-1.])\n",
    "fixb = tf.assign(b, [1.])\n",
    "sess.run([fixW, fixb])\n",
    "print(sess.run(loss, {x: [1, 2, 3, 4], y: [0, -1, -2, -3]}))"
   ]
  },
  {
   "cell_type": "code",
   "execution_count": 13,
   "metadata": {
    "collapsed": true
   },
   "outputs": [],
   "source": [
    "optimizer = tf.train.GradientDescentOptimizer(0.01)\n",
    "train = optimizer.minimize(loss)"
   ]
  },
  {
   "cell_type": "code",
   "execution_count": 14,
   "metadata": {},
   "outputs": [
    {
     "name": "stdout",
     "output_type": "stream",
     "text": [
      "[array([-0.9999969], dtype=float32), array([ 0.99999082], dtype=float32)]\n"
     ]
    }
   ],
   "source": [
    "sess.run(init) # reset values to incorrect defaults.\n",
    "for i in range(1000):\n",
    "  sess.run(train, {x: [1, 2, 3, 4], y: [0, -1, -2, -3]})\n",
    "\n",
    "print(sess.run([W, b]))"
   ]
  },
  {
   "cell_type": "code",
   "execution_count": 15,
   "metadata": {},
   "outputs": [
    {
     "name": "stdout",
     "output_type": "stream",
     "text": [
      "W: [-0.9999969] b: [ 0.99999082] loss: 5.69997e-11\n"
     ]
    }
   ],
   "source": [
    "import tensorflow as tf\n",
    "\n",
    "# Model parameters\n",
    "W = tf.Variable([.3], dtype=tf.float32)\n",
    "b = tf.Variable([-.3], dtype=tf.float32)\n",
    "# Model input and output\n",
    "x = tf.placeholder(tf.float32)\n",
    "linear_model = W * x + b\n",
    "y = tf.placeholder(tf.float32)\n",
    "\n",
    "# loss\n",
    "loss = tf.reduce_sum(tf.square(linear_model - y)) # sum of the squares\n",
    "# optimizer\n",
    "optimizer = tf.train.GradientDescentOptimizer(0.01)\n",
    "train = optimizer.minimize(loss)\n",
    "\n",
    "# training data\n",
    "x_train = [1, 2, 3, 4]\n",
    "y_train = [0, -1, -2, -3]\n",
    "# training loop\n",
    "init = tf.global_variables_initializer()\n",
    "sess = tf.Session()\n",
    "sess.run(init) # reset values to wrong\n",
    "for i in range(1000):\n",
    "  sess.run(train, {x: x_train, y: y_train})\n",
    "\n",
    "# evaluate training accuracy\n",
    "curr_W, curr_b, curr_loss = sess.run([W, b, loss], {x: x_train, y: y_train})\n",
    "print(\"W: %s b: %s loss: %s\"%(curr_W, curr_b, curr_loss))"
   ]
  },
  {
   "cell_type": "markdown",
   "metadata": {},
   "source": [
    "# Simple Linear Regression with Numpy"
   ]
  },
  {
   "attachments": {
    "spring.png": {
     "image/png": "[encoded data removed]"
    }
   },
   "cell_type": "markdown",
   "metadata": {},
   "source": [
    "![spring.png](attachment:spring.png)"
   ]
  },
  {
   "cell_type": "code",
   "execution_count": 57,
   "metadata": {
    "collapsed": true
   },
   "outputs": [],
   "source": [
    "import numpy as np"
   ]
  },
  {
   "cell_type": "code",
   "execution_count": 58,
   "metadata": {
    "collapsed": true
   },
   "outputs": [],
   "source": [
    "x = np.arange(0.0, 15.0, 0.1)"
   ]
  },
  {
   "cell_type": "code",
   "execution_count": 59,
   "metadata": {},
   "outputs": [
    {
     "data": {
      "text/plain": [
       "array([  0. ,   0.1,   0.2,   0.3,   0.4,   0.5,   0.6,   0.7,   0.8,\n",
       "         0.9,   1. ,   1.1,   1.2,   1.3,   1.4,   1.5,   1.6,   1.7,\n",
       "         1.8,   1.9,   2. ,   2.1,   2.2,   2.3,   2.4,   2.5,   2.6,\n",
       "         2.7,   2.8,   2.9,   3. ,   3.1,   3.2,   3.3,   3.4,   3.5,\n",
       "         3.6,   3.7,   3.8,   3.9,   4. ,   4.1,   4.2,   4.3,   4.4,\n",
       "         4.5,   4.6,   4.7,   4.8,   4.9,   5. ,   5.1,   5.2,   5.3,\n",
       "         5.4,   5.5,   5.6,   5.7,   5.8,   5.9,   6. ,   6.1,   6.2,\n",
       "         6.3,   6.4,   6.5,   6.6,   6.7,   6.8,   6.9,   7. ,   7.1,\n",
       "         7.2,   7.3,   7.4,   7.5,   7.6,   7.7,   7.8,   7.9,   8. ,\n",
       "         8.1,   8.2,   8.3,   8.4,   8.5,   8.6,   8.7,   8.8,   8.9,\n",
       "         9. ,   9.1,   9.2,   9.3,   9.4,   9.5,   9.6,   9.7,   9.8,\n",
       "         9.9,  10. ,  10.1,  10.2,  10.3,  10.4,  10.5,  10.6,  10.7,\n",
       "        10.8,  10.9,  11. ,  11.1,  11.2,  11.3,  11.4,  11.5,  11.6,\n",
       "        11.7,  11.8,  11.9,  12. ,  12.1,  12.2,  12.3,  12.4,  12.5,\n",
       "        12.6,  12.7,  12.8,  12.9,  13. ,  13.1,  13.2,  13.3,  13.4,\n",
       "        13.5,  13.6,  13.7,  13.8,  13.9,  14. ,  14.1,  14.2,  14.3,\n",
       "        14.4,  14.5,  14.6,  14.7,  14.8,  14.9])"
      ]
     },
     "execution_count": 59,
     "metadata": {},
     "output_type": "execute_result"
    }
   ],
   "source": [
    "x"
   ]
  },
  {
   "cell_type": "code",
   "execution_count": 64,
   "metadata": {
    "collapsed": true
   },
   "outputs": [],
   "source": [
    "m = 1.0"
   ]
  },
  {
   "cell_type": "code",
   "execution_count": 99,
   "metadata": {
    "collapsed": true
   },
   "outputs": [],
   "source": [
    "c = 5.0"
   ]
  },
  {
   "cell_type": "code",
   "execution_count": 100,
   "metadata": {
    "collapsed": true
   },
   "outputs": [],
   "source": [
    "y = (m * x) + c"
   ]
  },
  {
   "cell_type": "code",
   "execution_count": 101,
   "metadata": {},
   "outputs": [
    {
     "data": {
      "text/plain": [
       "array([  5. ,   5.1,   5.2,   5.3,   5.4,   5.5,   5.6,   5.7,   5.8,\n",
       "         5.9,   6. ,   6.1,   6.2,   6.3,   6.4,   6.5,   6.6,   6.7,\n",
       "         6.8,   6.9,   7. ,   7.1,   7.2,   7.3,   7.4,   7.5,   7.6,\n",
       "         7.7,   7.8,   7.9,   8. ,   8.1,   8.2,   8.3,   8.4,   8.5,\n",
       "         8.6,   8.7,   8.8,   8.9,   9. ,   9.1,   9.2,   9.3,   9.4,\n",
       "         9.5,   9.6,   9.7,   9.8,   9.9,  10. ,  10.1,  10.2,  10.3,\n",
       "        10.4,  10.5,  10.6,  10.7,  10.8,  10.9,  11. ,  11.1,  11.2,\n",
       "        11.3,  11.4,  11.5,  11.6,  11.7,  11.8,  11.9,  12. ,  12.1,\n",
       "        12.2,  12.3,  12.4,  12.5,  12.6,  12.7,  12.8,  12.9,  13. ,\n",
       "        13.1,  13.2,  13.3,  13.4,  13.5,  13.6,  13.7,  13.8,  13.9,\n",
       "        14. ,  14.1,  14.2,  14.3,  14.4,  14.5,  14.6,  14.7,  14.8,\n",
       "        14.9,  15. ,  15.1,  15.2,  15.3,  15.4,  15.5,  15.6,  15.7,\n",
       "        15.8,  15.9,  16. ,  16.1,  16.2,  16.3,  16.4,  16.5,  16.6,\n",
       "        16.7,  16.8,  16.9,  17. ,  17.1,  17.2,  17.3,  17.4,  17.5,\n",
       "        17.6,  17.7,  17.8,  17.9,  18. ,  18.1,  18.2,  18.3,  18.4,\n",
       "        18.5,  18.6,  18.7,  18.8,  18.9,  19. ,  19.1,  19.2,  19.3,\n",
       "        19.4,  19.5,  19.6,  19.7,  19.8,  19.9])"
      ]
     },
     "execution_count": 101,
     "metadata": {},
     "output_type": "execute_result"
    }
   ],
   "source": [
    "y"
   ]
  },
  {
   "cell_type": "code",
   "execution_count": 102,
   "metadata": {
    "collapsed": true
   },
   "outputs": [],
   "source": [
    "import matplotlib.pyplot as pl"
   ]
  },
  {
   "cell_type": "code",
   "execution_count": 103,
   "metadata": {},
   "outputs": [
    {
     "data": {
      "text/plain": [
       "[<matplotlib.lines.Line2D at 0x13f25beddd8>]"
      ]
     },
     "execution_count": 103,
     "metadata": {},
     "output_type": "execute_result"
    }
   ],
   "source": [
    "pl.plot(x, y)"
   ]
  },
  {
   "cell_type": "code",
   "execution_count": 104,
   "metadata": {},
   "outputs": [
    {
     "data": {
      "image/png": "[encoded data removed]",
      "text/plain": [
       "<matplotlib.figure.Figure at 0x13f25b7b588>"
      ]
     },
     "metadata": {},
     "output_type": "display_data"
    }
   ],
   "source": [
    "pl.show()"
   ]
  },
  {
   "cell_type": "code",
   "execution_count": 105,
   "metadata": {
    "collapsed": true
   },
   "outputs": [],
   "source": [
    "noise = np.random.normal(0.0, 1.0, x.size)"
   ]
  },
  {
   "cell_type": "code",
   "execution_count": 106,
   "metadata": {},
   "outputs": [
    {
     "data": {
      "text/plain": [
       "array([  3.26544006e-01,   1.34100850e+00,  -9.55140404e-01,\n",
       "        -2.37456003e-01,   9.00247713e-01,  -9.33229698e-02,\n",
       "         7.26895457e-01,  -2.07840470e-01,  -1.10107049e-01,\n",
       "        -5.53218459e-01,   1.96925889e+00,  -4.89159500e-01,\n",
       "         1.54886945e+00,  -2.52500415e-01,  -8.59352957e-01,\n",
       "         5.24001989e-01,  -2.84853927e-01,  -1.55714460e-01,\n",
       "        -7.01617129e-01,   1.15258712e+00,  -2.97912003e-02,\n",
       "        -4.42849983e-01,   1.87959004e+00,   6.73481347e-01,\n",
       "         9.61112728e-01,   2.67814370e-01,   1.29332723e+00,\n",
       "        -1.84025313e+00,  -2.96548172e-01,  -1.18755904e+00,\n",
       "         4.32485405e-01,  -1.46269023e-01,   6.45952957e-01,\n",
       "         1.18686168e+00,  -2.12342704e-01,   1.01773047e+00,\n",
       "        -1.67298132e+00,   7.57188824e-01,  -2.07706003e+00,\n",
       "         6.95601083e-01,  -8.90761269e-01,  -1.97375675e+00,\n",
       "         1.49696956e+00,   3.97500563e-01,   8.86799748e-01,\n",
       "         3.71566678e-01,  -4.91889682e-01,   3.69177303e-01,\n",
       "         1.20295445e-01,   2.25292436e+00,   4.36094478e-01,\n",
       "        -2.08439777e+00,  -6.58185008e-01,  -9.32736489e-01,\n",
       "        -1.25854688e+00,   1.01365361e+00,  -1.77411947e-01,\n",
       "         7.06243695e-01,   1.22666156e-01,  -9.84489942e-01,\n",
       "         1.01747878e-01,   1.26532629e+00,  -3.36151139e-01,\n",
       "        -1.14853694e-01,   9.00496505e-01,   5.01723103e-01,\n",
       "        -1.05022132e-01,   1.16731786e+00,   9.61774882e-01,\n",
       "         3.27675196e-01,   5.59916116e-01,   3.13586321e-01,\n",
       "        -8.18365505e-01,   4.05256078e-01,   1.00142311e+00,\n",
       "         7.18373217e-01,  -6.10251707e-01,   8.32504581e-01,\n",
       "        -1.03037693e+00,  -4.52210552e-01,   3.75693344e-01,\n",
       "         1.46050876e-01,  -1.27608062e+00,   3.44457308e-01,\n",
       "         9.70074216e-01,  -2.95198841e+00,   9.88231774e-01,\n",
       "         4.58625082e-01,   1.67552662e-01,  -6.25650342e-01,\n",
       "        -1.39688387e+00,   2.48009059e-01,  -2.93279880e-01,\n",
       "         2.01486863e+00,  -1.09953336e+00,   9.41872612e-01,\n",
       "        -3.63752443e-01,  -1.06701696e+00,   6.03066331e-01,\n",
       "         1.07105333e+00,   2.66835069e-01,  -4.37231087e-02,\n",
       "         1.13563253e+00,   1.39007499e+00,   1.16795551e-03,\n",
       "        -1.50013345e+00,   1.93487709e+00,  -2.22247851e+00,\n",
       "        -7.99861728e-01,   4.21232817e-01,   1.79706058e+00,\n",
       "        -1.76787544e+00,  -1.48416313e+00,   5.68338299e-01,\n",
       "         7.69598447e-01,  -1.97728785e+00,  -1.25838420e+00,\n",
       "        -1.27813322e-01,   1.29038291e+00,  -1.55928663e+00,\n",
       "         6.13106951e-01,  -1.38880303e+00,  -1.17527769e-01,\n",
       "         2.26885781e+00,   9.92658014e-01,   4.11578770e-02,\n",
       "         1.35199317e+00,  -6.99343805e-01,  -8.91324555e-01,\n",
       "         1.46911902e+00,  -2.22521713e+00,   1.34100306e+00,\n",
       "         9.17937519e-01,   2.30039652e-01,  -7.00675918e-01,\n",
       "         2.14765898e+00,   5.49292416e-01,  -4.04174069e-01,\n",
       "         2.35712205e-01,  -5.84461616e-01,   3.09526039e-01,\n",
       "         1.23313506e+00,  -9.55447150e-03,  -1.51100594e+00,\n",
       "        -8.00554517e-01,   3.26417353e-01,   3.48836831e-01,\n",
       "        -1.58746111e+00,  -4.31989343e-01,  -1.14009495e+00])"
      ]
     },
     "execution_count": 106,
     "metadata": {},
     "output_type": "execute_result"
    }
   ],
   "source": [
    "noise"
   ]
  },
  {
   "cell_type": "code",
   "execution_count": 107,
   "metadata": {},
   "outputs": [
    {
     "data": {
      "text/plain": [
       "[<matplotlib.lines.Line2D at 0x13f25ca2710>]"
      ]
     },
     "execution_count": 107,
     "metadata": {},
     "output_type": "execute_result"
    }
   ],
   "source": [
    "pl.plot(noise, '.')"
   ]
  },
  {
   "cell_type": "code",
   "execution_count": 108,
   "metadata": {},
   "outputs": [
    {
     "data": {
      "image/png": "[encoded data removed]",
      "text/plain": [
       "<matplotlib.figure.Figure at 0x13f25c34f98>"
      ]
     },
     "metadata": {},
     "output_type": "display_data"
    }
   ],
   "source": [
    "pl.show()"
   ]
  },
  {
   "cell_type": "code",
   "execution_count": 109,
   "metadata": {
    "collapsed": true
   },
   "outputs": [],
   "source": [
    "y_meas = y + noise"
   ]
  },
  {
   "cell_type": "code",
   "execution_count": 110,
   "metadata": {},
   "outputs": [
    {
     "data": {
      "text/plain": [
       "[<matplotlib.lines.Line2D at 0x13f25d40978>]"
      ]
     },
     "execution_count": 110,
     "metadata": {},
     "output_type": "execute_result"
    }
   ],
   "source": [
    "pl.plot(x, y_meas, '.')"
   ]
  },
  {
   "cell_type": "code",
   "execution_count": 111,
   "metadata": {
    "scrolled": true
   },
   "outputs": [
    {
     "data": {
      "image/png": "[encoded data removed]",
      "text/plain": [
       "<matplotlib.figure.Figure at 0x13f25cce208>"
      ]
     },
     "metadata": {},
     "output_type": "display_data"
    }
   ],
   "source": [
    "pl.show()"
   ]
  },
  {
   "cell_type": "code",
   "execution_count": 116,
   "metadata": {},
   "outputs": [],
   "source": [
    "x_avg = np.mean(x)\n",
    "y_avg = np.mean(y_meas)\n",
    "\n",
    "x_norm = x - x_avg\n",
    "y_norm = y_meas - y_avg\n",
    "\n",
    "m_est = np.sum(x_norm * y_norm) / np.sum(x_norm * x_norm)\n",
    "c_est = y_avg - m_est * x_avg"
   ]
  },
  {
   "cell_type": "code",
   "execution_count": 117,
   "metadata": {},
   "outputs": [
    {
     "data": {
      "text/plain": [
       "(0.98277074499135086, 5.1802249672125322)"
      ]
     },
     "execution_count": 117,
     "metadata": {},
     "output_type": "execute_result"
    }
   ],
   "source": [
    "m_est, c_est"
   ]
  },
  {
   "cell_type": "code",
   "execution_count": 118,
   "metadata": {
    "collapsed": true
   },
   "outputs": [],
   "source": [
    "y_est = (m_est * x) + c"
   ]
  },
  {
   "cell_type": "code",
   "execution_count": 123,
   "metadata": {},
   "outputs": [
    {
     "data": {
      "text/plain": [
       "0.94134566672811737"
      ]
     },
     "execution_count": 123,
     "metadata": {},
     "output_type": "execute_result"
    }
   ],
   "source": [
    "r_sq = 1 - np.sum((y_meas - y_est)**2) / np.sum(y_norm**2)\n",
    "r_sq"
   ]
  },
  {
   "cell_type": "code",
   "execution_count": null,
   "metadata": {
    "collapsed": true
   },
   "outputs": [],
   "source": []
  }
 ],
 "metadata": {
  "kernelspec": {
   "display_name": "Python 3",
   "language": "python",
   "name": "python3"
  },
  "language_info": {
   "codemirror_mode": {
    "name": "ipython",
    "version": 3
   },
   "file_extension": ".py",
   "mimetype": "text/x-python",
   "name": "python",
   "nbconvert_exporter": "python",
   "pygments_lexer": "ipython3",
   "version": "3.6.1"
  }
 },
 "nbformat": 4,
 "nbformat_minor": 2
}
