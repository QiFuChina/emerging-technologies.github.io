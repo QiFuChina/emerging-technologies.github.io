{
 "cells": [
  {
   "cell_type": "markdown",
   "metadata": {},
   "source": [
    "# Simple Linear Regression with Numpy"
   ]
  },
  {
   "attachments": {
    "spring.png": {
     "image/png": "[encoded data removed]"
    }
   },
   "cell_type": "markdown",
   "metadata": {},
   "source": [
    "![images/spring.png](attachment:spring.png)"
   ]
  },
  {
   "cell_type": "markdown",
   "metadata": {},
   "source": [
    "#### Scenario\n",
    "Suppose you are trying to weigh your suitcase to avoid an airline's extra charges, but all you have is a spring, a wall hook, and some standard weights of mass 5KG, 10KG and 15KG.\n",
    "You attach the spring to the wall hook, and place the 5KG weight on the other end.\n",
    "You mark the wall at the point where the spring's hook is with that weight hanging on it.\n",
    "Then you repeat this with the 10KG weight and the 15KG weight.\n",
    "\n",
    "Finally, you place just your case hanging on the spring, and to your disappointment the spring hangs down below where the 10KG mark, suggesting that your bag is too heavy ro bring as carry-on luggage.\n",
    "You give up on your holiday and decide instead to investigate this spring and weight situation.\n",
    "It looks like the 15KG mark is about twice the distance from the 5KG mark as the 10KG mark.\n",
    "You wonder if there is a *linear* relationship between the weight and the distance of the spring's hook from its natural position when hanging with no weight.\n",
    "\n",
    "Let's simulate this situation in Python, and estimate the relationship between the variables involved.\n",
    "We'll begin with numpy."
   ]
  },
  {
   "cell_type": "code",
   "execution_count": 1,
   "metadata": {
    "collapsed": true
   },
   "outputs": [],
   "source": [
    "import numpy as np"
   ]
  },
  {
   "cell_type": "markdown",
   "metadata": {},
   "source": [
    "Let's simulate having lots of standard weights to investigate our spring with.\n",
    "We'll use weights of all masses from 0KG to 14.9KG in 0.1KG increments. 0KG represents no weight."
   ]
  },
  {
   "cell_type": "code",
   "execution_count": 8,
   "metadata": {},
   "outputs": [
    {
     "ename": "TypeError",
     "evalue": "'float' object cannot be interpreted as an integer",
     "output_type": "error",
     "traceback": [
      "\u001b[1;31m---------------------------------------------------------------------------\u001b[0m",
      "\u001b[1;31mTypeError\u001b[0m                                 Traceback (most recent call last)",
      "\u001b[1;32m<ipython-input-8-56515c202bea>\u001b[0m in \u001b[0;36m<module>\u001b[1;34m()\u001b[0m\n\u001b[1;32m----> 1\u001b[1;33m \u001b[0mlist\u001b[0m\u001b[1;33m(\u001b[0m\u001b[0mrange\u001b[0m\u001b[1;33m(\u001b[0m\u001b[1;36m0.1\u001b[0m\u001b[1;33m,\u001b[0m \u001b[1;36m0.9\u001b[0m\u001b[1;33m,\u001b[0m \u001b[1;36m0.1\u001b[0m\u001b[1;33m)\u001b[0m\u001b[1;33m)\u001b[0m\u001b[1;33m\u001b[0m\u001b[0m\n\u001b[0m",
      "\u001b[1;31mTypeError\u001b[0m: 'float' object cannot be interpreted as an integer"
     ]
    }
   ],
   "source": [
    "list(range(0.1, 0.9, 0.1))"
   ]
  },
  {
   "cell_type": "code",
   "execution_count": 10,
   "metadata": {},
   "outputs": [
    {
     "data": {
      "text/plain": [
       "array([  0. ,   0.1,   0.2,   0.3,   0.4,   0.5,   0.6,   0.7,   0.8,\n",
       "         0.9,   1. ,   1.1,   1.2,   1.3,   1.4,   1.5,   1.6,   1.7,\n",
       "         1.8,   1.9,   2. ,   2.1,   2.2,   2.3,   2.4,   2.5,   2.6,\n",
       "         2.7,   2.8,   2.9,   3. ,   3.1,   3.2,   3.3,   3.4,   3.5,\n",
       "         3.6,   3.7,   3.8,   3.9,   4. ,   4.1,   4.2,   4.3,   4.4,\n",
       "         4.5,   4.6,   4.7,   4.8,   4.9,   5. ,   5.1,   5.2,   5.3,\n",
       "         5.4,   5.5,   5.6,   5.7,   5.8,   5.9,   6. ,   6.1,   6.2,\n",
       "         6.3,   6.4,   6.5,   6.6,   6.7,   6.8,   6.9,   7. ,   7.1,\n",
       "         7.2,   7.3,   7.4,   7.5,   7.6,   7.7,   7.8,   7.9,   8. ,\n",
       "         8.1,   8.2,   8.3,   8.4,   8.5,   8.6,   8.7,   8.8,   8.9,\n",
       "         9. ,   9.1,   9.2,   9.3,   9.4,   9.5,   9.6,   9.7,   9.8,\n",
       "         9.9,  10. ,  10.1,  10.2,  10.3,  10.4,  10.5,  10.6,  10.7,\n",
       "        10.8,  10.9,  11. ,  11.1,  11.2,  11.3,  11.4,  11.5,  11.6,\n",
       "        11.7,  11.8,  11.9,  12. ,  12.1,  12.2,  12.3,  12.4,  12.5,\n",
       "        12.6,  12.7,  12.8,  12.9,  13. ,  13.1,  13.2,  13.3,  13.4,\n",
       "        13.5,  13.6,  13.7,  13.8,  13.9,  14. ,  14.1,  14.2,  14.3,\n",
       "        14.4,  14.5,  14.6,  14.7,  14.8,  14.9])"
      ]
     },
     "execution_count": 10,
     "metadata": {},
     "output_type": "execute_result"
    }
   ],
   "source": [
    "x = np.arange(0.0, 15.0, 0.1)\n",
    "x"
   ]
  },
  {
   "cell_type": "markdown",
   "metadata": {},
   "source": [
    "We'll set two parameters then, in our simulation.\n",
    "The first one, `m` will be the amount of change in the distance the wall mark moves when we increase the weight by 1KG.\n",
    "So, an increase of 1 in the weight leads to an increase of 1 in the mark."
   ]
  },
  {
   "cell_type": "code",
   "execution_count": 11,
   "metadata": {
    "collapsed": true
   },
   "outputs": [],
   "source": [
    "m = 1.0"
   ]
  },
  {
   "cell_type": "markdown",
   "metadata": {},
   "source": [
    "The parameter `c` represents the initial position of the spring, without any weight on it."
   ]
  },
  {
   "cell_type": "code",
   "execution_count": 12,
   "metadata": {
    "collapsed": true
   },
   "outputs": [],
   "source": [
    "c = 5.0"
   ]
  },
  {
   "cell_type": "markdown",
   "metadata": {},
   "source": [
    "Then we'll create the model with the parameters as follows.\n",
    "The idea is that the spring is 5cm long when there's no weight on it, and for every kilo weight we hang from it, it extends by 1cm. This is inspired by [Hooke's Law](https://en.wikipedia.org/wiki/Hooke%27s_law)."
   ]
  },
  {
   "cell_type": "code",
   "execution_count": 14,
   "metadata": {
    "collapsed": true
   },
   "outputs": [],
   "source": [
    "y = (m * x) + c"
   ]
  },
  {
   "cell_type": "markdown",
   "metadata": {},
   "source": [
    "Note that in a model we treat `x` as an unknown, but we gave `x` a specific set of values above. It's an array of values from 0 to 15 in 0.1 increments.\n",
    "So, y is a set of values now too.\n",
    "Numpy arrays know how to interact with the basic operators like + and /, as Python support operator overloading."
   ]
  },
  {
   "cell_type": "code",
   "execution_count": 15,
   "metadata": {},
   "outputs": [
    {
     "data": {
      "text/plain": [
       "array([  5. ,   5.1,   5.2,   5.3,   5.4,   5.5,   5.6,   5.7,   5.8,\n",
       "         5.9,   6. ,   6.1,   6.2,   6.3,   6.4,   6.5,   6.6,   6.7,\n",
       "         6.8,   6.9,   7. ,   7.1,   7.2,   7.3,   7.4,   7.5,   7.6,\n",
       "         7.7,   7.8,   7.9,   8. ,   8.1,   8.2,   8.3,   8.4,   8.5,\n",
       "         8.6,   8.7,   8.8,   8.9,   9. ,   9.1,   9.2,   9.3,   9.4,\n",
       "         9.5,   9.6,   9.7,   9.8,   9.9,  10. ,  10.1,  10.2,  10.3,\n",
       "        10.4,  10.5,  10.6,  10.7,  10.8,  10.9,  11. ,  11.1,  11.2,\n",
       "        11.3,  11.4,  11.5,  11.6,  11.7,  11.8,  11.9,  12. ,  12.1,\n",
       "        12.2,  12.3,  12.4,  12.5,  12.6,  12.7,  12.8,  12.9,  13. ,\n",
       "        13.1,  13.2,  13.3,  13.4,  13.5,  13.6,  13.7,  13.8,  13.9,\n",
       "        14. ,  14.1,  14.2,  14.3,  14.4,  14.5,  14.6,  14.7,  14.8,\n",
       "        14.9,  15. ,  15.1,  15.2,  15.3,  15.4,  15.5,  15.6,  15.7,\n",
       "        15.8,  15.9,  16. ,  16.1,  16.2,  16.3,  16.4,  16.5,  16.6,\n",
       "        16.7,  16.8,  16.9,  17. ,  17.1,  17.2,  17.3,  17.4,  17.5,\n",
       "        17.6,  17.7,  17.8,  17.9,  18. ,  18.1,  18.2,  18.3,  18.4,\n",
       "        18.5,  18.6,  18.7,  18.8,  18.9,  19. ,  19.1,  19.2,  19.3,\n",
       "        19.4,  19.5,  19.6,  19.7,  19.8,  19.9])"
      ]
     },
     "execution_count": 15,
     "metadata": {},
     "output_type": "execute_result"
    }
   ],
   "source": [
    "y"
   ]
  },
  {
   "cell_type": "markdown",
   "metadata": {},
   "source": [
    "We'll use matplotlib's pyplot library to view the data in picture form."
   ]
  },
  {
   "cell_type": "code",
   "execution_count": 16,
   "metadata": {
    "collapsed": true
   },
   "outputs": [],
   "source": [
    "import matplotlib.pyplot as pl"
   ]
  },
  {
   "cell_type": "markdown",
   "metadata": {},
   "source": [
    "Tell pyplot to to prepare a plot of `x` versus `y`."
   ]
  },
  {
   "cell_type": "code",
   "execution_count": 18,
   "metadata": {},
   "outputs": [
    {
     "data": {
      "text/plain": [
       "[<matplotlib.lines.Line2D at 0x165feb6ecc0>]"
      ]
     },
     "execution_count": 18,
     "metadata": {},
     "output_type": "execute_result"
    }
   ],
   "source": [
    "pl.plot(x, y, '.')"
   ]
  },
  {
   "cell_type": "markdown",
   "metadata": {},
   "source": [
    "Show the plot."
   ]
  },
  {
   "cell_type": "code",
   "execution_count": 19,
   "metadata": {},
   "outputs": [
    {
     "data": {
      "image/png": "[encoded data removed]",
      "text/plain": [
       "<matplotlib.figure.Figure at 0x165827f86a0>"
      ]
     },
     "metadata": {},
     "output_type": "display_data"
    }
   ],
   "source": [
    "pl.show()"
   ]
  },
  {
   "cell_type": "markdown",
   "metadata": {},
   "source": [
    "#### Introducing error\n",
    "In real world experiments, there is usually some measurment error - so let's add some to our simulation.\n",
    "We'll make an assumption about the measurment error here - that it's normally distributed about the true value."
   ]
  },
  {
   "cell_type": "code",
   "execution_count": 20,
   "metadata": {},
   "outputs": [
    {
     "data": {
      "text/plain": [
       "array([ 0.46050505,  0.51476051, -1.66969687,  0.88033493,  1.12063255,\n",
       "        1.14104707,  0.09256674, -1.13408352, -0.16411011,  1.48573021,\n",
       "       -1.20441783,  0.28488235,  0.19286232,  0.25776781, -1.52359469,\n",
       "        0.43052195, -0.17876164, -0.67674371, -0.08858857, -0.45901671,\n",
       "       -1.34094979,  0.65843594,  0.67168773, -0.86195073, -1.18372059,\n",
       "        1.2383955 , -1.02718844, -0.90337338,  0.31017996,  0.48617968,\n",
       "        0.43680424, -0.38513618, -0.84896054, -0.41110223, -0.11641712,\n",
       "       -1.01039497,  0.15976356, -0.18435277, -0.0579711 , -0.32823474,\n",
       "       -0.01449639,  0.74232922, -0.51344592, -0.01894599, -1.53971502,\n",
       "       -1.3234237 , -0.20652028,  0.98452615,  0.46612926,  1.17254017,\n",
       "        1.2829439 , -1.17852097,  1.24560039, -0.34257131, -0.75354957,\n",
       "       -0.77940536, -0.26687498, -0.20942347,  0.09280992,  0.90273015,\n",
       "       -0.04364647, -0.12315296,  1.2696422 , -1.15560372, -2.00772876,\n",
       "       -1.26738109,  0.08831217, -0.46328474,  1.76398392,  1.18707435,\n",
       "       -3.21878416, -0.01679003, -0.841378  , -0.22806519,  0.67597129,\n",
       "        0.53586512,  0.70223433, -0.00894031,  0.89620518,  0.0723812 ,\n",
       "        0.59827456, -1.07303719,  1.30576367, -0.24785029, -0.31792913,\n",
       "        0.04011376, -0.05464063,  0.16397882, -0.56913164, -0.39094737,\n",
       "       -1.16729313,  0.86381747, -0.27865229,  1.50418461, -1.39977566,\n",
       "       -0.82109096, -0.56939932, -0.26968505,  0.41329189, -0.52859838,\n",
       "        1.0168379 ,  2.17325448,  0.07523278,  0.58744117, -0.72771859,\n",
       "        0.16490699, -0.57268486, -0.91636298,  0.17760968,  0.03756094,\n",
       "        0.49352248,  2.17811089,  0.06430389, -0.30034127,  0.61574937,\n",
       "        0.68179151,  0.34792624,  0.26159672, -0.7199507 , -0.56889587,\n",
       "        1.71944378, -0.32641168, -1.17772888, -1.87481733,  0.90963778,\n",
       "        0.55553631, -0.00553546,  0.94512411, -0.87739458, -0.36265629,\n",
       "        1.15307816,  0.34658198,  0.86203202, -1.13567423,  0.43236517,\n",
       "        1.66811051, -0.16587888, -0.65003877,  0.50098067,  2.11129105,\n",
       "        1.62899938,  0.42322251,  3.00324797, -0.36611797, -0.27080627,\n",
       "       -0.19099059,  1.61762146, -0.93614435, -0.90330827,  0.7020711 ])"
      ]
     },
     "execution_count": 20,
     "metadata": {},
     "output_type": "execute_result"
    }
   ],
   "source": [
    "noise = np.random.normal(0.0, 1.0, x.size)\n",
    "noise"
   ]
  },
  {
   "cell_type": "markdown",
   "metadata": {},
   "source": [
    "Let's have a look at the noise data.\n",
    "This kind of 2D plot doesn't make much sense as we only have one-dimensional data.\n",
    "The x-axis is just the position in the array the value occurs.\n",
    "Hoever, it does serve to display how the values are fairly evenly balanced around 0 on the y-axis and are more likely to be close to it than further away."
   ]
  },
  {
   "cell_type": "code",
   "execution_count": 21,
   "metadata": {},
   "outputs": [
    {
     "data": {
      "text/plain": [
       "[<matplotlib.lines.Line2D at 0x16582d176a0>]"
      ]
     },
     "execution_count": 21,
     "metadata": {},
     "output_type": "execute_result"
    }
   ],
   "source": [
    "pl.plot(noise, '.')"
   ]
  },
  {
   "cell_type": "code",
   "execution_count": 23,
   "metadata": {},
   "outputs": [],
   "source": [
    "pl.show()"
   ]
  },
  {
   "cell_type": "code",
   "execution_count": 24,
   "metadata": {
    "collapsed": true
   },
   "outputs": [],
   "source": [
    "y_meas = y + noise"
   ]
  },
  {
   "cell_type": "code",
   "execution_count": 25,
   "metadata": {},
   "outputs": [
    {
     "data": {
      "image/png": "[encoded data removed]",
      "text/plain": [
       "<matplotlib.figure.Figure at 0x16582d31a20>"
      ]
     },
     "metadata": {},
     "output_type": "display_data"
    }
   ],
   "source": [
    "pl.plot(x, y_meas, '.')\n",
    "pl.show()"
   ]
  },
  {
   "cell_type": "markdown",
   "metadata": {
    "scrolled": true
   },
   "source": [
    "#### Best fit\n",
    "From the data with the errors included, we can estimate the best `m` and `c` that fits the data.\n",
    "We know these values should be 1.0 and 5.0 respectively, but the error is random so they might not be exact."
   ]
  },
  {
   "cell_type": "code",
   "execution_count": 26,
   "metadata": {
    "collapsed": true
   },
   "outputs": [],
   "source": [
    "x_avg = np.mean(x)\n",
    "y_avg = np.mean(y_meas)\n",
    "\n",
    "x_norm = x - x_avg\n",
    "y_norm = y_meas - y_avg\n",
    "\n",
    "m_est = np.sum(x_norm * y_norm) / np.sum(x_norm * x_norm)\n",
    "c_est = y_avg - m_est * x_avg"
   ]
  },
  {
   "cell_type": "markdown",
   "metadata": {},
   "source": [
    "Here are the estiamted values.\n",
    "As you can see, they are pretty close to the true values."
   ]
  },
  {
   "cell_type": "code",
   "execution_count": 27,
   "metadata": {},
   "outputs": [
    {
     "data": {
      "text/plain": [
       "(1.0337034986123113, 4.7771159179412201)"
      ]
     },
     "execution_count": 27,
     "metadata": {},
     "output_type": "execute_result"
    }
   ],
   "source": [
    "m_est, c_est"
   ]
  },
  {
   "cell_type": "markdown",
   "metadata": {},
   "source": [
    "We can then calculate the predicted y values from the estiamted parameters."
   ]
  },
  {
   "cell_type": "code",
   "execution_count": 28,
   "metadata": {
    "collapsed": true
   },
   "outputs": [],
   "source": [
    "y_est = (m_est * x) + c"
   ]
  },
  {
   "cell_type": "markdown",
   "metadata": {},
   "source": [
    "You can see in the following plot of both the original line (in red) and the estimated line that they are very close to each other. "
   ]
  },
  {
   "cell_type": "code",
   "execution_count": 29,
   "metadata": {},
   "outputs": [
    {
     "data": {
      "image/png": "[encoded data removed]",
      "text/plain": [
       "<matplotlib.figure.Figure at 0x16582db69e8>"
      ]
     },
     "metadata": {},
     "output_type": "display_data"
    }
   ],
   "source": [
    "pl.plot(x, y, 'r-', label='Original')\n",
    "pl.plot(x, y_est, 'b-', label='Estimated')\n",
    "pl.plot(x, y_meas, 'k.', label='Measured')\n",
    "pl.legend()\n",
    "pl.show()"
   ]
  },
  {
   "cell_type": "markdown",
   "metadata": {},
   "source": [
    "We can also check how good a fit the model is, using the actual measured values to calculate it."
   ]
  },
  {
   "cell_type": "code",
   "execution_count": 19,
   "metadata": {},
   "outputs": [
    {
     "data": {
      "text/plain": [
       "0.9534805850746314"
      ]
     },
     "execution_count": 19,
     "metadata": {},
     "output_type": "execute_result"
    }
   ],
   "source": [
    "r_sq = 1 - np.sum((y_meas - y_est)**2) / np.sum(y_norm**2)\n",
    "r_sq"
   ]
  },
  {
   "cell_type": "markdown",
   "metadata": {
    "collapsed": true
   },
   "source": [
    "#### End"
   ]
  }
 ],
 "metadata": {
  "kernelspec": {
   "display_name": "Python 3",
   "language": "python",
   "name": "python3"
  },
  "language_info": {
   "codemirror_mode": {
    "name": "ipython",
    "version": 3
   },
   "file_extension": ".py",
   "mimetype": "text/x-python",
   "name": "python",
   "nbconvert_exporter": "python",
   "pygments_lexer": "ipython3",
   "version": "3.6.2"
  }
 },
 "nbformat": 4,
 "nbformat_minor": 2
}
