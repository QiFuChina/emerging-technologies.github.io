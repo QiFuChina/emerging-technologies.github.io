{
 "cells": [
  {
   "cell_type": "markdown",
   "metadata": {},
   "source": [
    "# Simple Linear Regression with Numpy"
   ]
  },
  {
   "attachments": {
    "spring.png": {
     "image/png": "[encoded data removed]"
    }
   },
   "cell_type": "markdown",
   "metadata": {},
   "source": [
    "![images/spring.png](attachment:spring.png)"
   ]
  },
  {
   "cell_type": "markdown",
   "metadata": {},
   "source": [
    "#### Scenario\n",
    "Suppose you are trying to weigh your suitcase to avoid an airline's extra charges, but all you have is a spring, a wall hook, and some standard weights of mass 5KG, 10KG and 15KG.\n",
    "You attach the spring to the wall hook, and place the 5KG weight on the other end.\n",
    "You mark the wall at the point where the spring's hook is with that weight hanging on it.\n",
    "Then you repeat this with the 10KG weight and the 15KG weight.\n",
    "\n",
    "Finally, you place just your case hanging on the spring, and to your disappointment the spring hangs down below where the 10KG mark, suggesting that your bag is too heavy ro bring as carry-on luggage.\n",
    "You give up on your holiday and decide instead to investigate this spring and weight situation.\n",
    "It looks like the 15KG mark is about twice the distance from the 5KG mark as the 10KG mark.\n",
    "You wonder if there is a *linear* relationship between the weight and the distance of the spring's hook from its natural position when hanging with no weight.\n",
    "\n",
    "Let's simulate this situation in Python, and estimate the relationship between the variables involved.\n",
    "We'll begin with numpy."
   ]
  },
  {
   "cell_type": "code",
   "execution_count": 1,
   "metadata": {
    "collapsed": true
   },
   "outputs": [],
   "source": [
    "import numpy as np"
   ]
  },
  {
   "cell_type": "markdown",
   "metadata": {},
   "source": [
    "Let's simulate having lot's of standard weights to investigate our spring with.\n",
    "We'll use weights of all masses from 0KG to 14.9KG in 0.1KG increments. 0KG represents no weight."
   ]
  },
  {
   "cell_type": "code",
   "execution_count": 2,
   "metadata": {},
   "outputs": [
    {
     "data": {
      "text/plain": [
       "array([  0. ,   0.1,   0.2,   0.3,   0.4,   0.5,   0.6,   0.7,   0.8,\n",
       "         0.9,   1. ,   1.1,   1.2,   1.3,   1.4,   1.5,   1.6,   1.7,\n",
       "         1.8,   1.9,   2. ,   2.1,   2.2,   2.3,   2.4,   2.5,   2.6,\n",
       "         2.7,   2.8,   2.9,   3. ,   3.1,   3.2,   3.3,   3.4,   3.5,\n",
       "         3.6,   3.7,   3.8,   3.9,   4. ,   4.1,   4.2,   4.3,   4.4,\n",
       "         4.5,   4.6,   4.7,   4.8,   4.9,   5. ,   5.1,   5.2,   5.3,\n",
       "         5.4,   5.5,   5.6,   5.7,   5.8,   5.9,   6. ,   6.1,   6.2,\n",
       "         6.3,   6.4,   6.5,   6.6,   6.7,   6.8,   6.9,   7. ,   7.1,\n",
       "         7.2,   7.3,   7.4,   7.5,   7.6,   7.7,   7.8,   7.9,   8. ,\n",
       "         8.1,   8.2,   8.3,   8.4,   8.5,   8.6,   8.7,   8.8,   8.9,\n",
       "         9. ,   9.1,   9.2,   9.3,   9.4,   9.5,   9.6,   9.7,   9.8,\n",
       "         9.9,  10. ,  10.1,  10.2,  10.3,  10.4,  10.5,  10.6,  10.7,\n",
       "        10.8,  10.9,  11. ,  11.1,  11.2,  11.3,  11.4,  11.5,  11.6,\n",
       "        11.7,  11.8,  11.9,  12. ,  12.1,  12.2,  12.3,  12.4,  12.5,\n",
       "        12.6,  12.7,  12.8,  12.9,  13. ,  13.1,  13.2,  13.3,  13.4,\n",
       "        13.5,  13.6,  13.7,  13.8,  13.9,  14. ,  14.1,  14.2,  14.3,\n",
       "        14.4,  14.5,  14.6,  14.7,  14.8,  14.9])"
      ]
     },
     "execution_count": 2,
     "metadata": {},
     "output_type": "execute_result"
    }
   ],
   "source": [
    "x = np.arange(0.0, 15.0, 0.1)\n",
    "x"
   ]
  },
  {
   "cell_type": "markdown",
   "metadata": {},
   "source": [
    "We'll set two parameters then, in our simulation.\n",
    "The first one, `m` will be the amount of change in the distance the wall mark moves when we increase the weight by 1KG.\n",
    "So, an increase of 1 in the weight leads to an increase of 1 in the mark."
   ]
  },
  {
   "cell_type": "code",
   "execution_count": 3,
   "metadata": {
    "collapsed": true
   },
   "outputs": [],
   "source": [
    "m = 1.0"
   ]
  },
  {
   "cell_type": "markdown",
   "metadata": {},
   "source": [
    "The parameter `c` represents the initial position of the spring, without any weight on it."
   ]
  },
  {
   "cell_type": "code",
   "execution_count": 4,
   "metadata": {
    "collapsed": true
   },
   "outputs": [],
   "source": [
    "c = 5.0"
   ]
  },
  {
   "cell_type": "markdown",
   "metadata": {},
   "source": [
    "Then we'll create the model with the parameters as follows.\n",
    "The idea is that the spring is 5cm long when there's no weight on it, and for every kilo weight we hang from it, it extends by 1cm. This is inspired by [Hooke's Law](https://en.wikipedia.org/wiki/Hooke%27s_law)."
   ]
  },
  {
   "cell_type": "code",
   "execution_count": 5,
   "metadata": {
    "collapsed": true
   },
   "outputs": [],
   "source": [
    "y = (m * x) + c"
   ]
  },
  {
   "cell_type": "markdown",
   "metadata": {},
   "source": [
    "Note that in a model we treat `x` as an unknown, but we gave `x` a specific set of values above. It's an array of values from 0 to 15 in 0.1 increments.\n",
    "So, y is a set of values now too.\n",
    "Numpy arrays know how to interact with the basic operators like + and /, as Python support operator overloading."
   ]
  },
  {
   "cell_type": "code",
   "execution_count": 6,
   "metadata": {},
   "outputs": [
    {
     "data": {
      "text/plain": [
       "array([  5. ,   5.1,   5.2,   5.3,   5.4,   5.5,   5.6,   5.7,   5.8,\n",
       "         5.9,   6. ,   6.1,   6.2,   6.3,   6.4,   6.5,   6.6,   6.7,\n",
       "         6.8,   6.9,   7. ,   7.1,   7.2,   7.3,   7.4,   7.5,   7.6,\n",
       "         7.7,   7.8,   7.9,   8. ,   8.1,   8.2,   8.3,   8.4,   8.5,\n",
       "         8.6,   8.7,   8.8,   8.9,   9. ,   9.1,   9.2,   9.3,   9.4,\n",
       "         9.5,   9.6,   9.7,   9.8,   9.9,  10. ,  10.1,  10.2,  10.3,\n",
       "        10.4,  10.5,  10.6,  10.7,  10.8,  10.9,  11. ,  11.1,  11.2,\n",
       "        11.3,  11.4,  11.5,  11.6,  11.7,  11.8,  11.9,  12. ,  12.1,\n",
       "        12.2,  12.3,  12.4,  12.5,  12.6,  12.7,  12.8,  12.9,  13. ,\n",
       "        13.1,  13.2,  13.3,  13.4,  13.5,  13.6,  13.7,  13.8,  13.9,\n",
       "        14. ,  14.1,  14.2,  14.3,  14.4,  14.5,  14.6,  14.7,  14.8,\n",
       "        14.9,  15. ,  15.1,  15.2,  15.3,  15.4,  15.5,  15.6,  15.7,\n",
       "        15.8,  15.9,  16. ,  16.1,  16.2,  16.3,  16.4,  16.5,  16.6,\n",
       "        16.7,  16.8,  16.9,  17. ,  17.1,  17.2,  17.3,  17.4,  17.5,\n",
       "        17.6,  17.7,  17.8,  17.9,  18. ,  18.1,  18.2,  18.3,  18.4,\n",
       "        18.5,  18.6,  18.7,  18.8,  18.9,  19. ,  19.1,  19.2,  19.3,\n",
       "        19.4,  19.5,  19.6,  19.7,  19.8,  19.9])"
      ]
     },
     "execution_count": 6,
     "metadata": {},
     "output_type": "execute_result"
    }
   ],
   "source": [
    "y"
   ]
  },
  {
   "cell_type": "markdown",
   "metadata": {},
   "source": [
    "We'll use matplotlib's pyplot library to view the data in picture form."
   ]
  },
  {
   "cell_type": "code",
   "execution_count": 7,
   "metadata": {
    "collapsed": true
   },
   "outputs": [],
   "source": [
    "import matplotlib.pyplot as pl"
   ]
  },
  {
   "cell_type": "markdown",
   "metadata": {},
   "source": [
    "Tell pyplot to to prepare a plot of `x` versus `y`."
   ]
  },
  {
   "cell_type": "code",
   "execution_count": 8,
   "metadata": {},
   "outputs": [
    {
     "data": {
      "text/plain": [
       "[<matplotlib.lines.Line2D at 0x21c502dd8d0>]"
      ]
     },
     "execution_count": 8,
     "metadata": {},
     "output_type": "execute_result"
    }
   ],
   "source": [
    "pl.plot(x, y)"
   ]
  },
  {
   "cell_type": "markdown",
   "metadata": {},
   "source": [
    "Show the plot."
   ]
  },
  {
   "cell_type": "code",
   "execution_count": 9,
   "metadata": {},
   "outputs": [
    {
     "data": {
      "image/png": "[encoded data removed]",
      "text/plain": [
       "<matplotlib.figure.Figure at 0x21c5019de48>"
      ]
     },
     "metadata": {},
     "output_type": "display_data"
    }
   ],
   "source": [
    "pl.show()"
   ]
  },
  {
   "cell_type": "markdown",
   "metadata": {},
   "source": [
    "#### Introducing error\n",
    "In real world experiments, there is usually some measurment error - so let's add some to our simulation.\n",
    "We'll make an assumption about the measurment error here - that it's normally distributed about the true value."
   ]
  },
  {
   "cell_type": "code",
   "execution_count": 10,
   "metadata": {},
   "outputs": [
    {
     "data": {
      "text/plain": [
       "array([  7.45600350e-01,  -7.90407985e-01,   1.09866761e+00,\n",
       "        -8.58403997e-02,   5.07838104e-01,  -2.21115825e-01,\n",
       "         1.38378013e+00,   1.78048732e+00,  -1.78340200e-01,\n",
       "         4.31604620e-01,   3.38678997e-01,  -1.02156779e+00,\n",
       "         2.80909839e-01,   2.92619979e-01,  -1.68519072e-01,\n",
       "         4.26999360e-01,   2.07470445e+00,  -8.08328627e-01,\n",
       "         5.36106462e-01,   1.93264955e-01,  -7.12320019e-01,\n",
       "        -1.87518755e+00,   9.37947614e-01,   4.70423346e-01,\n",
       "        -4.33356739e-01,   3.97957769e-01,   1.49921162e+00,\n",
       "         1.06377767e+00,   1.47380233e+00,   1.31948218e+00,\n",
       "        -2.71853682e+00,   8.35017276e-02,  -1.56077155e+00,\n",
       "        -8.08102579e-01,   3.03614052e-01,  -2.08683108e+00,\n",
       "         1.48908018e+00,   6.36103237e-01,   7.69970408e-01,\n",
       "         1.50957007e+00,  -6.60148942e-01,   4.35271711e-01,\n",
       "         6.35003299e-01,  -5.02508919e-01,   5.99776421e-01,\n",
       "        -6.21539312e-01,  -2.46155868e-01,  -1.47568830e+00,\n",
       "        -7.59336763e-01,  -1.57932012e-01,  -1.94007447e+00,\n",
       "         2.79208703e-01,  -7.18165965e-01,  -1.32737615e-01,\n",
       "        -1.30174737e+00,  -2.93731333e-01,   8.82425853e-01,\n",
       "        -8.27055112e-01,  -4.00670007e-01,   6.82011192e-01,\n",
       "         1.30921963e+00,  -8.94659569e-01,  -4.10260609e-01,\n",
       "         7.90069657e-01,   2.41853800e-01,  -1.32716547e+00,\n",
       "        -1.10351843e+00,   4.48956720e-01,   7.69042569e-01,\n",
       "        -4.36929240e-01,   1.40939710e-01,   1.71528867e+00,\n",
       "         2.48555654e-01,   2.38807836e-01,   2.21672060e-02,\n",
       "         1.22370721e+00,   8.41266149e-02,   4.08191842e-01,\n",
       "         8.60989049e-01,   6.71420005e-01,  -5.87452963e-04,\n",
       "         1.08739646e+00,  -3.94263177e-01,   5.01382740e-01,\n",
       "        -1.01397685e+00,   9.24941661e-01,  -8.40680244e-01,\n",
       "        -5.81143980e-01,  -6.98403929e-01,  -1.60597295e-01,\n",
       "         2.75646127e+00,  -9.56842271e-01,   7.32620131e-01,\n",
       "         8.86727279e-01,  -5.40897570e-01,   1.88156249e-01,\n",
       "        -7.63571767e-01,  -9.37951718e-01,  -8.53356005e-01,\n",
       "         1.17141961e+00,   6.93685124e-01,  -2.81959316e-01,\n",
       "         1.10274981e+00,  -4.50876014e-01,  -1.21100314e-01,\n",
       "        -1.35100271e+00,   5.79696623e-01,   3.65073885e-01,\n",
       "        -1.35315344e+00,  -3.93775553e-02,   9.31521269e-01,\n",
       "        -2.01597625e-01,   7.36266468e-01,  -9.61610368e-01,\n",
       "        -7.04597235e-01,   7.09186273e-01,  -1.91526368e+00,\n",
       "        -1.10283057e+00,   2.79964683e-01,  -2.85514948e-01,\n",
       "         2.36655619e-01,  -3.69595685e-01,  -7.39423881e-01,\n",
       "        -5.54017449e-01,  -1.63643638e+00,  -1.32561319e+00,\n",
       "         4.92870373e-01,   1.00220793e+00,   5.16410136e-01,\n",
       "        -9.50869550e-01,   2.30266085e+00,   2.88973727e-01,\n",
       "        -5.48026457e-01,   8.38626529e-01,   6.57143926e-01,\n",
       "        -7.18216927e-01,   4.13519463e-01,   6.91623714e-01,\n",
       "         1.31360164e-01,   1.67921998e-01,  -8.20506955e-02,\n",
       "        -3.69686040e-01,  -6.00915431e-01,  -1.11148649e+00,\n",
       "        -2.02015116e-01,  -9.92852934e-01,  -3.38209927e-01,\n",
       "        -6.80776893e-01,   7.22478943e-01,   3.81461837e-01])"
      ]
     },
     "execution_count": 10,
     "metadata": {},
     "output_type": "execute_result"
    }
   ],
   "source": [
    "noise = np.random.normal(0.0, 1.0, x.size)\n",
    "noise"
   ]
  },
  {
   "cell_type": "markdown",
   "metadata": {},
   "source": [
    "Let's have a look at the noise data.\n",
    "This kind of 2D plot doesn't make much sense as we only have one-dimensional data.\n",
    "The x-axis is just the position in the array the value occurs.\n",
    "Hoever, it does serve to display how the values are fairly evenly balanced around 0 on the y-axis and are more likely to be close to it than further away."
   ]
  },
  {
   "cell_type": "code",
   "execution_count": 11,
   "metadata": {},
   "outputs": [
    {
     "data": {
      "text/plain": [
       "[<matplotlib.lines.Line2D at 0x21c506fa4e0>]"
      ]
     },
     "execution_count": 11,
     "metadata": {},
     "output_type": "execute_result"
    }
   ],
   "source": [
    "pl.plot(noise, '.')"
   ]
  },
  {
   "cell_type": "code",
   "execution_count": 12,
   "metadata": {},
   "outputs": [
    {
     "data": {
      "image/png": "[encoded data removed]",
      "text/plain": [
       "<matplotlib.figure.Figure at 0x21c50311358>"
      ]
     },
     "metadata": {},
     "output_type": "display_data"
    }
   ],
   "source": [
    "pl.show()"
   ]
  },
  {
   "cell_type": "code",
   "execution_count": 13,
   "metadata": {
    "collapsed": true
   },
   "outputs": [],
   "source": [
    "y_meas = y + noise"
   ]
  },
  {
   "cell_type": "code",
   "execution_count": 14,
   "metadata": {},
   "outputs": [
    {
     "data": {
      "image/png": "[encoded data removed]",
      "text/plain": [
       "<matplotlib.figure.Figure at 0x21c50726860>"
      ]
     },
     "metadata": {},
     "output_type": "display_data"
    }
   ],
   "source": [
    "pl.plot(x, y_meas, '.')\n",
    "pl.show()"
   ]
  },
  {
   "cell_type": "markdown",
   "metadata": {
    "scrolled": true
   },
   "source": [
    "#### Best fit\n",
    "From the data with the errors included, we can estimate the best `m` and `c` that fits the data.\n",
    "We know these values should be 1.0 and 5.0 respectively, but the error is random so they might not be exact."
   ]
  },
  {
   "cell_type": "code",
   "execution_count": 15,
   "metadata": {},
   "outputs": [],
   "source": [
    "x_avg = np.mean(x)\n",
    "y_avg = np.mean(y_meas)\n",
    "\n",
    "x_norm = x - x_avg\n",
    "y_norm = y_meas - y_avg\n",
    "\n",
    "m_est = np.sum(x_norm * y_norm) / np.sum(x_norm * x_norm)\n",
    "c_est = y_avg - m_est * x_avg"
   ]
  },
  {
   "cell_type": "markdown",
   "metadata": {},
   "source": [
    "Here are the estiamted values.\n",
    "As you can see, they are pretty close to the true values."
   ]
  },
  {
   "cell_type": "code",
   "execution_count": 16,
   "metadata": {},
   "outputs": [
    {
     "data": {
      "text/plain": [
       "(0.97779585246513068, 5.17750957812643)"
      ]
     },
     "execution_count": 16,
     "metadata": {},
     "output_type": "execute_result"
    }
   ],
   "source": [
    "m_est, c_est"
   ]
  },
  {
   "cell_type": "markdown",
   "metadata": {},
   "source": [
    "We can then calculate the predicted y values from the estiamted parameters."
   ]
  },
  {
   "cell_type": "code",
   "execution_count": 17,
   "metadata": {},
   "outputs": [],
   "source": [
    "y_est = (m_est * x) + c"
   ]
  },
  {
   "cell_type": "markdown",
   "metadata": {},
   "source": [
    "You can see in the following plot of both the original line (in red) and the estimated line that they are very close to each other. "
   ]
  },
  {
   "cell_type": "code",
   "execution_count": 18,
   "metadata": {},
   "outputs": [
    {
     "data": {
      "image/png": "[encoded data removed]",
      "text/plain": [
       "<matplotlib.figure.Figure at 0x21c5074b630>"
      ]
     },
     "metadata": {},
     "output_type": "display_data"
    }
   ],
   "source": [
    "pl.plot(x, y, 'r-', label='Original')\n",
    "pl.plot(x, y_est, 'b-', label='Estimated')\n",
    "pl.plot(x, y_meas, 'k.', label='Measured')\n",
    "pl.legend()\n",
    "pl.show()"
   ]
  },
  {
   "cell_type": "markdown",
   "metadata": {},
   "source": [
    "We can also check how good a fit the model is, using the actual measured values to calculate it."
   ]
  },
  {
   "cell_type": "code",
   "execution_count": 19,
   "metadata": {},
   "outputs": [
    {
     "data": {
      "text/plain": [
       "0.9534805850746314"
      ]
     },
     "execution_count": 19,
     "metadata": {},
     "output_type": "execute_result"
    }
   ],
   "source": [
    "r_sq = 1 - np.sum((y_meas - y_est)**2) / np.sum(y_norm**2)\n",
    "r_sq"
   ]
  },
  {
   "cell_type": "markdown",
   "metadata": {
    "collapsed": true
   },
   "source": [
    "#### End"
   ]
  }
 ],
 "metadata": {
  "kernelspec": {
   "display_name": "Python 3",
   "language": "python",
   "name": "python3"
  },
  "language_info": {
   "codemirror_mode": {
    "name": "ipython",
    "version": 3
   },
   "file_extension": ".py",
   "mimetype": "text/x-python",
   "name": "python",
   "nbconvert_exporter": "python",
   "pygments_lexer": "ipython3",
   "version": "3.6.1"
  }
 },
 "nbformat": 4,
 "nbformat_minor": 2
}
