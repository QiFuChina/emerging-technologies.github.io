{
 "cells": [
  {
   "cell_type": "markdown",
   "metadata": {},
   "source": [
    "# Simple Linear Regression with Numpy"
   ]
  },
  {
   "attachments": {
    "spring.png": {
     "image/png": "[encoded data removed]"
    }
   },
   "cell_type": "markdown",
   "metadata": {},
   "source": [
    "![images/spring.png](attachment:spring.png)"
   ]
  },
  {
   "cell_type": "markdown",
   "metadata": {},
   "source": [
    "#### Scenario\n",
    "Suppose you are trying to weigh your suitcase to avoid an airline's extra charges.\n",
    "You don't have a weighing scales, but you do have a spring and some gym-style weights of masses 7KG, 14KG and 21KG.\n",
    "You attach the spring to the wall hook, and mark where the bottom of it hangs.\n",
    "You then hang the 7KG weight on the end and mark where the bottom of the spring is.\n",
    "You repeat this with the 14KG weight and the 21KG weight.\n",
    "Finally, you place your case hanging on the spring, and the spring hangs down halfway between the 7KG mark and the 14KG mark.\n",
    "Is your case over the 10KG limit set by the airline?"
   ]
  },
  {
   "cell_type": "markdown",
   "metadata": {},
   "source": [
    "#### Hypothesis\n",
    "When you look at the marks on the wall, it seems that the 0KG, 7KG, 14KG and 21KG marks are evenly spaced.\n",
    "You wonder if that means your case weighs 10.5KG.\n",
    "That is, you wonder if there is a *linear* relationship between the distance the spring's hook is from its resting position, and the mass on the end of it."
   ]
  },
  {
   "cell_type": "markdown",
   "metadata": {},
   "source": [
    "#### Experiment\n",
    "You decide to experiment.\n",
    "You buy some new weights - a 1KG, a 2KG, a 3Kg, all the way up to 20KG.\n",
    "You place them each in turn on the spring and measure the distance the spring moves from the resting position.\n",
    "You tabulate the data and plot them."
   ]
  },
  {
   "cell_type": "markdown",
   "metadata": {},
   "source": [
    "#### Analysis\n",
    "Here we'll import hte Python libraries we need for or investigations below."
   ]
  },
  {
   "cell_type": "code",
   "execution_count": 1,
   "metadata": {
    "collapsed": true
   },
   "outputs": [],
   "source": [
    "# numpy efficiently deals with numerical multi-dimensional arrays.\n",
    "import numpy as np\n",
    "\n",
    "# matplotlib is a plotting library, and pyplot is its easy-to-use module.\n",
    "import matplotlib.pyplot as pl"
   ]
  },
  {
   "cell_type": "markdown",
   "metadata": {},
   "source": [
    "Ignore the next couple of lines where I fake up some data!"
   ]
  },
  {
   "cell_type": "code",
   "execution_count": 21,
   "metadata": {},
   "outputs": [],
   "source": [
    "x = np.arange(1.0, 16.0, 1.0)\n",
    "y = 5.0 * x + 10.0 + np.random.normal(0.0, 5.0, x.size)"
   ]
  },
  {
   "cell_type": "markdown",
   "metadata": {
    "collapsed": true
   },
   "source": [
    "Let's have a look at the data from our experiment."
   ]
  },
  {
   "cell_type": "code",
   "execution_count": 22,
   "metadata": {},
   "outputs": [
    {
     "data": {
      "image/png": "[encoded data removed]",
      "text/plain": [
       "<matplotlib.figure.Figure at 0x11e5e8b4ac8>"
      ]
     },
     "metadata": {},
     "output_type": "display_data"
    }
   ],
   "source": [
    "# Create the plot.\n",
    "pl.plot(x, y, 'k.')\n",
    "\n",
    "# Set some properties for the plot.\n",
    "pl.xlabel('Weight (KG)')\n",
    "pl.ylabel('Distance (CM)')\n",
    "\n",
    "# Show the plot.\n",
    "pl.show()"
   ]
  },
  {
   "cell_type": "markdown",
   "metadata": {},
   "source": [
    "Let's simulate having lots of standard weights to investigate our spring with.\n",
    "We'll use weights of all masses from 0KG to 14.9KG in 0.1KG increments. 0KG represents no weight."
   ]
  },
  {
   "cell_type": "code",
   "execution_count": 2,
   "metadata": {},
   "outputs": [
    {
     "data": {
      "text/plain": [
       "array([  0. ,   0.1,   0.2,   0.3,   0.4,   0.5,   0.6,   0.7,   0.8,\n",
       "         0.9,   1. ,   1.1,   1.2,   1.3,   1.4,   1.5,   1.6,   1.7,\n",
       "         1.8,   1.9,   2. ,   2.1,   2.2,   2.3,   2.4,   2.5,   2.6,\n",
       "         2.7,   2.8,   2.9,   3. ,   3.1,   3.2,   3.3,   3.4,   3.5,\n",
       "         3.6,   3.7,   3.8,   3.9,   4. ,   4.1,   4.2,   4.3,   4.4,\n",
       "         4.5,   4.6,   4.7,   4.8,   4.9,   5. ,   5.1,   5.2,   5.3,\n",
       "         5.4,   5.5,   5.6,   5.7,   5.8,   5.9,   6. ,   6.1,   6.2,\n",
       "         6.3,   6.4,   6.5,   6.6,   6.7,   6.8,   6.9,   7. ,   7.1,\n",
       "         7.2,   7.3,   7.4,   7.5,   7.6,   7.7,   7.8,   7.9,   8. ,\n",
       "         8.1,   8.2,   8.3,   8.4,   8.5,   8.6,   8.7,   8.8,   8.9,\n",
       "         9. ,   9.1,   9.2,   9.3,   9.4,   9.5,   9.6,   9.7,   9.8,\n",
       "         9.9,  10. ,  10.1,  10.2,  10.3,  10.4,  10.5,  10.6,  10.7,\n",
       "        10.8,  10.9,  11. ,  11.1,  11.2,  11.3,  11.4,  11.5,  11.6,\n",
       "        11.7,  11.8,  11.9,  12. ,  12.1,  12.2,  12.3,  12.4,  12.5,\n",
       "        12.6,  12.7,  12.8,  12.9,  13. ,  13.1,  13.2,  13.3,  13.4,\n",
       "        13.5,  13.6,  13.7,  13.8,  13.9,  14. ,  14.1,  14.2,  14.3,\n",
       "        14.4,  14.5,  14.6,  14.7,  14.8,  14.9])"
      ]
     },
     "execution_count": 2,
     "metadata": {},
     "output_type": "execute_result"
    }
   ],
   "source": [
    "x = np.arange(0.0, 15.0, 0.1)\n",
    "x"
   ]
  },
  {
   "cell_type": "markdown",
   "metadata": {},
   "source": [
    "We'll set two parameters then, in our simulation.\n",
    "The first one, `m` will be the amount of change in the distance the wall mark moves when we increase the weight by 1KG.\n",
    "So, an increase of 1 in the weight leads to an increase of 1 in the mark."
   ]
  },
  {
   "cell_type": "code",
   "execution_count": 3,
   "metadata": {
    "collapsed": true
   },
   "outputs": [],
   "source": [
    "m = 1.0"
   ]
  },
  {
   "cell_type": "markdown",
   "metadata": {},
   "source": [
    "The parameter `c` represents the initial position of the spring, without any weight on it."
   ]
  },
  {
   "cell_type": "code",
   "execution_count": 4,
   "metadata": {
    "collapsed": true
   },
   "outputs": [],
   "source": [
    "c = 5.0"
   ]
  },
  {
   "cell_type": "markdown",
   "metadata": {},
   "source": [
    "Then we'll create the model with the parameters as follows.\n",
    "The idea is that the spring is 5cm long when there's no weight on it, and for every kilo weight we hang from it, it extends by 1cm. This is inspired by [Hooke's Law](https://en.wikipedia.org/wiki/Hooke%27s_law)."
   ]
  },
  {
   "cell_type": "code",
   "execution_count": 5,
   "metadata": {
    "collapsed": true
   },
   "outputs": [],
   "source": [
    "y = (m * x) + c"
   ]
  },
  {
   "cell_type": "markdown",
   "metadata": {},
   "source": [
    "Note that in a model we treat `x` as an unknown, but we gave `x` a specific set of values above. It's an array of values from 0 to 15 in 0.1 increments.\n",
    "So, y is a set of values now too.\n",
    "Numpy arrays know how to interact with the basic operators like + and /, as Python support operator overloading."
   ]
  },
  {
   "cell_type": "code",
   "execution_count": 6,
   "metadata": {},
   "outputs": [
    {
     "data": {
      "text/plain": [
       "array([  5. ,   5.1,   5.2,   5.3,   5.4,   5.5,   5.6,   5.7,   5.8,\n",
       "         5.9,   6. ,   6.1,   6.2,   6.3,   6.4,   6.5,   6.6,   6.7,\n",
       "         6.8,   6.9,   7. ,   7.1,   7.2,   7.3,   7.4,   7.5,   7.6,\n",
       "         7.7,   7.8,   7.9,   8. ,   8.1,   8.2,   8.3,   8.4,   8.5,\n",
       "         8.6,   8.7,   8.8,   8.9,   9. ,   9.1,   9.2,   9.3,   9.4,\n",
       "         9.5,   9.6,   9.7,   9.8,   9.9,  10. ,  10.1,  10.2,  10.3,\n",
       "        10.4,  10.5,  10.6,  10.7,  10.8,  10.9,  11. ,  11.1,  11.2,\n",
       "        11.3,  11.4,  11.5,  11.6,  11.7,  11.8,  11.9,  12. ,  12.1,\n",
       "        12.2,  12.3,  12.4,  12.5,  12.6,  12.7,  12.8,  12.9,  13. ,\n",
       "        13.1,  13.2,  13.3,  13.4,  13.5,  13.6,  13.7,  13.8,  13.9,\n",
       "        14. ,  14.1,  14.2,  14.3,  14.4,  14.5,  14.6,  14.7,  14.8,\n",
       "        14.9,  15. ,  15.1,  15.2,  15.3,  15.4,  15.5,  15.6,  15.7,\n",
       "        15.8,  15.9,  16. ,  16.1,  16.2,  16.3,  16.4,  16.5,  16.6,\n",
       "        16.7,  16.8,  16.9,  17. ,  17.1,  17.2,  17.3,  17.4,  17.5,\n",
       "        17.6,  17.7,  17.8,  17.9,  18. ,  18.1,  18.2,  18.3,  18.4,\n",
       "        18.5,  18.6,  18.7,  18.8,  18.9,  19. ,  19.1,  19.2,  19.3,\n",
       "        19.4,  19.5,  19.6,  19.7,  19.8,  19.9])"
      ]
     },
     "execution_count": 6,
     "metadata": {},
     "output_type": "execute_result"
    }
   ],
   "source": [
    "y"
   ]
  },
  {
   "cell_type": "markdown",
   "metadata": {},
   "source": [
    "We'll use matplotlib's pyplot library to view the data in picture form."
   ]
  },
  {
   "cell_type": "code",
   "execution_count": 7,
   "metadata": {
    "collapsed": true
   },
   "outputs": [],
   "source": [
    "import matplotlib.pyplot as pl"
   ]
  },
  {
   "cell_type": "markdown",
   "metadata": {},
   "source": [
    "Tell pyplot to to prepare a plot of `x` versus `y`."
   ]
  },
  {
   "cell_type": "code",
   "execution_count": 8,
   "metadata": {},
   "outputs": [
    {
     "data": {
      "text/plain": [
       "[<matplotlib.lines.Line2D at 0x220c848b6d8>]"
      ]
     },
     "execution_count": 8,
     "metadata": {},
     "output_type": "execute_result"
    }
   ],
   "source": [
    "pl.plot(x, y, '.')"
   ]
  },
  {
   "cell_type": "markdown",
   "metadata": {},
   "source": [
    "Show the plot."
   ]
  },
  {
   "cell_type": "code",
   "execution_count": 9,
   "metadata": {},
   "outputs": [
    {
     "data": {
      "image/png": "[encoded data removed]",
      "text/plain": [
       "<matplotlib.figure.Figure at 0x220c7a31c18>"
      ]
     },
     "metadata": {},
     "output_type": "display_data"
    }
   ],
   "source": [
    "pl.show()"
   ]
  },
  {
   "cell_type": "markdown",
   "metadata": {},
   "source": [
    "#### Introducing error\n",
    "In real world experiments, there is usually some measurement error - so let's add some to our simulation.\n",
    "We'll make an assumption about the measurement error here - that it's normally distributed about the true value."
   ]
  },
  {
   "cell_type": "code",
   "execution_count": 10,
   "metadata": {},
   "outputs": [
    {
     "data": {
      "text/plain": [
       "array([ 0.91581556, -1.05301126,  0.27391536, -0.82366661, -0.41113026,\n",
       "        0.2852516 ,  0.63688065,  0.57883233,  2.48594884,  0.69692417,\n",
       "        1.46627877, -0.27092272, -0.71828883,  0.80312779,  0.38059587,\n",
       "        1.09264962,  1.83191144,  0.9025268 ,  0.53962876,  1.63413417,\n",
       "        0.5234586 ,  0.99336271, -1.14676274,  0.98705144,  0.5955249 ,\n",
       "        0.76210896, -0.4324563 , -0.54665123,  0.1397982 , -0.47432792,\n",
       "        0.52816556, -0.40089883,  1.40151598, -0.33694718, -1.33866327,\n",
       "        0.56727503,  1.15327233, -0.76024158, -0.91782024, -0.48454735,\n",
       "       -0.24384679,  0.37114257, -0.40835661, -0.72724809,  0.65785452,\n",
       "       -0.14265847, -0.79465681,  1.29592268,  0.25007235,  0.97471085,\n",
       "       -0.85112458, -0.07426229, -1.08996232,  0.81512324,  1.12822777,\n",
       "        1.22564424,  0.1807771 ,  0.15751939, -0.16313508,  0.87703755,\n",
       "        0.08204841,  0.0233813 ,  0.12738234, -0.80051366,  0.14647158,\n",
       "       -1.01263533,  0.68598106, -1.40378215, -0.50193718, -0.6831766 ,\n",
       "        0.51626596, -0.94007748,  1.62692512,  0.52153076, -0.76427   ,\n",
       "       -0.2964463 ,  0.04232718,  0.2090837 ,  1.41804403,  0.22763109,\n",
       "        0.6442723 , -0.57117348,  1.19327884, -0.17204739,  0.39425036,\n",
       "       -0.02400166, -0.32215976, -2.04994891, -0.86397244, -0.15658027,\n",
       "       -1.89767344, -0.19217704, -0.00310996, -0.17155701, -0.29107759,\n",
       "       -0.55593411, -1.11423002,  0.93160669,  0.0931039 ,  0.81159117,\n",
       "        0.43851715,  0.47025704, -0.36645878, -0.50761047, -0.34790602,\n",
       "        0.24429576, -0.94734845,  1.65838773, -0.04445107, -0.45707621,\n",
       "        0.47227326, -0.99821456,  0.47087323,  1.50185785, -0.26697104,\n",
       "       -3.09236987, -0.56312925,  0.98145575, -1.37019174, -0.28939277,\n",
       "       -0.52668534,  1.39557276, -2.57113975,  0.71034411, -0.13556956,\n",
       "        0.39282225,  0.91400581, -0.09464747, -0.18089394, -0.30833159,\n",
       "        0.79091273, -0.70993298, -0.55685408,  0.85846509, -0.01606149,\n",
       "        0.16356636,  0.38792673,  0.04765933, -1.22891708, -1.94129497,\n",
       "        0.37643962, -0.4253232 ,  0.42762507,  0.58878914,  1.88225087,\n",
       "       -1.58093821, -1.11579951,  0.2537182 ,  1.6777256 ,  0.46327214])"
      ]
     },
     "execution_count": 10,
     "metadata": {},
     "output_type": "execute_result"
    }
   ],
   "source": [
    "noise = np.random.normal(0.0, 1.0, x.size)\n",
    "noise"
   ]
  },
  {
   "cell_type": "markdown",
   "metadata": {},
   "source": [
    "Let's have a look at the noise data.\n",
    "This kind of 2D plot doesn't make much sense as we only have one-dimensional data.\n",
    "The x-axis is just the position in the array the value occurs.\n",
    "However, it does serve to display how the values are fairly evenly balanced around 0 on the y-axis and are more likely to be close to it than further away."
   ]
  },
  {
   "cell_type": "code",
   "execution_count": 11,
   "metadata": {},
   "outputs": [
    {
     "data": {
      "text/plain": [
       "[<matplotlib.lines.Line2D at 0x220c878f0f0>]"
      ]
     },
     "execution_count": 11,
     "metadata": {},
     "output_type": "execute_result"
    }
   ],
   "source": [
    "pl.plot(noise, '.')"
   ]
  },
  {
   "cell_type": "code",
   "execution_count": 12,
   "metadata": {},
   "outputs": [
    {
     "data": {
      "image/png": "[encoded data removed]",
      "text/plain": [
       "<matplotlib.figure.Figure at 0x220c8433438>"
      ]
     },
     "metadata": {},
     "output_type": "display_data"
    }
   ],
   "source": [
    "pl.show()"
   ]
  },
  {
   "cell_type": "code",
   "execution_count": 13,
   "metadata": {
    "collapsed": true
   },
   "outputs": [],
   "source": [
    "y_meas = y + noise"
   ]
  },
  {
   "cell_type": "code",
   "execution_count": 14,
   "metadata": {},
   "outputs": [
    {
     "data": {
      "image/png": "[encoded data removed]",
      "text/plain": [
       "<matplotlib.figure.Figure at 0x220c87b7cf8>"
      ]
     },
     "metadata": {},
     "output_type": "display_data"
    }
   ],
   "source": [
    "pl.plot(x, y_meas, '.')\n",
    "pl.show()"
   ]
  },
  {
   "cell_type": "markdown",
   "metadata": {
    "scrolled": true
   },
   "source": [
    "#### Best fit\n",
    "From the data with the errors included, we can estimate the best `m` and `c` that fits the data.\n",
    "We know these values should be 1.0 and 5.0 respectively, but the error is random so they might not be exact."
   ]
  },
  {
   "cell_type": "code",
   "execution_count": 25,
   "metadata": {
    "collapsed": true
   },
   "outputs": [],
   "source": [
    "x_avg = np.mean(x)\n",
    "y_avg = np.mean(y_meas)\n",
    "\n",
    "x_norm = x - x_avg\n",
    "y_norm = y_meas - y_avg\n",
    "\n",
    "m_est = np.sum(x_norm * y_norm) / np.sum(x_norm * x_norm)\n",
    "c_est = y_avg - m_est * x_avg"
   ]
  },
  {
   "cell_type": "markdown",
   "metadata": {},
   "source": [
    "Here are the estimated values.\n",
    "As you can see, they are close to the true values."
   ]
  },
  {
   "cell_type": "code",
   "execution_count": 26,
   "metadata": {},
   "outputs": [
    {
     "data": {
      "text/plain": [
       "(0.96576772519116516, 5.3039011041596726)"
      ]
     },
     "execution_count": 26,
     "metadata": {},
     "output_type": "execute_result"
    }
   ],
   "source": [
    "m_est, c_est"
   ]
  },
  {
   "cell_type": "markdown",
   "metadata": {},
   "source": [
    "Numpy has this functionality built-in. We can compare our values to those here."
   ]
  },
  {
   "cell_type": "code",
   "execution_count": 33,
   "metadata": {},
   "outputs": [
    {
     "data": {
      "text/plain": [
       "array([ 0.96576773,  5.3039011 ])"
      ]
     },
     "execution_count": 33,
     "metadata": {},
     "output_type": "execute_result"
    }
   ],
   "source": [
    "np.polyfit(x, y_meas, 1)"
   ]
  },
  {
   "cell_type": "markdown",
   "metadata": {},
   "source": [
    "We can then calculate the predicted y values from the estimated parameters."
   ]
  },
  {
   "cell_type": "code",
   "execution_count": 17,
   "metadata": {
    "collapsed": true
   },
   "outputs": [],
   "source": [
    "y_est = (m_est * x) + c"
   ]
  },
  {
   "cell_type": "markdown",
   "metadata": {},
   "source": [
    "You can see in the following plot of both the original line (in red) and the estimated line that they are very close to each other. "
   ]
  },
  {
   "cell_type": "code",
   "execution_count": 18,
   "metadata": {},
   "outputs": [
    {
     "data": {
      "image/png": "[encoded data removed]",
      "text/plain": [
       "<matplotlib.figure.Figure at 0x220c87dd1d0>"
      ]
     },
     "metadata": {},
     "output_type": "display_data"
    }
   ],
   "source": [
    "pl.plot(x, y, 'r-', label='Original')\n",
    "pl.plot(x, y_est, 'b-', label='Estimated')\n",
    "pl.plot(x, y_meas, 'k.', label='Measured')\n",
    "pl.legend()\n",
    "pl.show()"
   ]
  },
  {
   "cell_type": "markdown",
   "metadata": {},
   "source": [
    "We can also check how good a fit the model is, using the actual measured values to calculate it."
   ]
  },
  {
   "cell_type": "code",
   "execution_count": 19,
   "metadata": {},
   "outputs": [
    {
     "data": {
      "text/plain": [
       "0.95154098991561697"
      ]
     },
     "execution_count": 19,
     "metadata": {},
     "output_type": "execute_result"
    }
   ],
   "source": [
    "r_sq = 1 - np.sum((y_meas - y_est)**2) / np.sum(y_norm**2)\n",
    "r_sq"
   ]
  },
  {
   "cell_type": "markdown",
   "metadata": {
    "collapsed": true
   },
   "source": [
    "#### End"
   ]
  }
 ],
 "metadata": {
  "kernelspec": {
   "display_name": "Python 3",
   "language": "python",
   "name": "python3"
  },
  "language_info": {
   "codemirror_mode": {
    "name": "ipython",
    "version": 3
   },
   "file_extension": ".py",
   "mimetype": "text/x-python",
   "name": "python",
   "nbconvert_exporter": "python",
   "pygments_lexer": "ipython3",
   "version": "3.6.2"
  }
 },
 "nbformat": 4,
 "nbformat_minor": 2
}
