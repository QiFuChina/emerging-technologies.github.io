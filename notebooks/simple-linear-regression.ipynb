{
 "cells": [
  {
   "cell_type": "markdown",
   "metadata": {},
   "source": [
    "# Simple Linear Regression with Numpy"
   ]
  },
  {
   "attachments": {
    "spring.png": {
     "image/png": "[encoded data removed]"
    }
   },
   "cell_type": "markdown",
   "metadata": {},
   "source": [
    "![images/spring.png](attachment:spring.png)"
   ]
  },
  {
   "cell_type": "markdown",
   "metadata": {},
   "source": [
    "#### Scenario\n",
    "Suppose you are trying to weigh your suitcase to avoid an airline's extra charges, but all you have is a spring, a wall hook, and some standard weights of mass 5KG, 10KG and 15KG.\n",
    "You attach the spring to the wall hook, and place the 5KG weight on the other end.\n",
    "You mark the wall at the point where the spring's hook is with that weight hanging on it.\n",
    "Then you repeat this with the 10KG weight and the 15KG weight.\n",
    "\n",
    "Finally, you place just your case hanging on the spring, and to your disappointment the spring hangs down below where the 10KG mark, suggesting that your bag is too heavy to bring as carry-on luggage.\n",
    "You give up on your holiday and decide instead to investigate this spring and weight situation.\n",
    "It looks like the 15KG mark is about twice the distance from the 5KG mark as the 10KG mark.\n",
    "You wonder if there is a *linear* relationship between the weight and the distance of the spring's hook from its natural position when hanging with no weight.\n",
    "\n",
    "Let's simulate this situation in Python, and estimate the relationship between the variables involved.\n",
    "We'll begin with numpy."
   ]
  },
  {
   "cell_type": "code",
   "execution_count": 1,
   "metadata": {
    "collapsed": true
   },
   "outputs": [],
   "source": [
    "import numpy as np"
   ]
  },
  {
   "cell_type": "markdown",
   "metadata": {},
   "source": [
    "Let's simulate having lots of standard weights to investigate our spring with.\n",
    "We'll use weights of all masses from 0KG to 14.9KG in 0.1KG increments. 0KG represents no weight."
   ]
  },
  {
   "cell_type": "code",
   "execution_count": 2,
   "metadata": {},
   "outputs": [
    {
     "data": {
      "text/plain": [
       "array([  0. ,   0.1,   0.2,   0.3,   0.4,   0.5,   0.6,   0.7,   0.8,\n",
       "         0.9,   1. ,   1.1,   1.2,   1.3,   1.4,   1.5,   1.6,   1.7,\n",
       "         1.8,   1.9,   2. ,   2.1,   2.2,   2.3,   2.4,   2.5,   2.6,\n",
       "         2.7,   2.8,   2.9,   3. ,   3.1,   3.2,   3.3,   3.4,   3.5,\n",
       "         3.6,   3.7,   3.8,   3.9,   4. ,   4.1,   4.2,   4.3,   4.4,\n",
       "         4.5,   4.6,   4.7,   4.8,   4.9,   5. ,   5.1,   5.2,   5.3,\n",
       "         5.4,   5.5,   5.6,   5.7,   5.8,   5.9,   6. ,   6.1,   6.2,\n",
       "         6.3,   6.4,   6.5,   6.6,   6.7,   6.8,   6.9,   7. ,   7.1,\n",
       "         7.2,   7.3,   7.4,   7.5,   7.6,   7.7,   7.8,   7.9,   8. ,\n",
       "         8.1,   8.2,   8.3,   8.4,   8.5,   8.6,   8.7,   8.8,   8.9,\n",
       "         9. ,   9.1,   9.2,   9.3,   9.4,   9.5,   9.6,   9.7,   9.8,\n",
       "         9.9,  10. ,  10.1,  10.2,  10.3,  10.4,  10.5,  10.6,  10.7,\n",
       "        10.8,  10.9,  11. ,  11.1,  11.2,  11.3,  11.4,  11.5,  11.6,\n",
       "        11.7,  11.8,  11.9,  12. ,  12.1,  12.2,  12.3,  12.4,  12.5,\n",
       "        12.6,  12.7,  12.8,  12.9,  13. ,  13.1,  13.2,  13.3,  13.4,\n",
       "        13.5,  13.6,  13.7,  13.8,  13.9,  14. ,  14.1,  14.2,  14.3,\n",
       "        14.4,  14.5,  14.6,  14.7,  14.8,  14.9])"
      ]
     },
     "execution_count": 2,
     "metadata": {},
     "output_type": "execute_result"
    }
   ],
   "source": [
    "x = np.arange(0.0, 15.0, 0.1)\n",
    "x"
   ]
  },
  {
   "cell_type": "markdown",
   "metadata": {},
   "source": [
    "We'll set two parameters then, in our simulation.\n",
    "The first one, `m` will be the amount of change in the distance the wall mark moves when we increase the weight by 1KG.\n",
    "So, an increase of 1 in the weight leads to an increase of 1 in the mark."
   ]
  },
  {
   "cell_type": "code",
   "execution_count": 3,
   "metadata": {
    "collapsed": true
   },
   "outputs": [],
   "source": [
    "m = 1.0"
   ]
  },
  {
   "cell_type": "markdown",
   "metadata": {},
   "source": [
    "The parameter `c` represents the initial position of the spring, without any weight on it."
   ]
  },
  {
   "cell_type": "code",
   "execution_count": 4,
   "metadata": {
    "collapsed": true
   },
   "outputs": [],
   "source": [
    "c = 5.0"
   ]
  },
  {
   "cell_type": "markdown",
   "metadata": {},
   "source": [
    "Then we'll create the model with the parameters as follows.\n",
    "The idea is that the spring is 5cm long when there's no weight on it, and for every kilo weight we hang from it, it extends by 1cm. This is inspired by [Hooke's Law](https://en.wikipedia.org/wiki/Hooke%27s_law)."
   ]
  },
  {
   "cell_type": "code",
   "execution_count": 5,
   "metadata": {
    "collapsed": true
   },
   "outputs": [],
   "source": [
    "y = (m * x) + c"
   ]
  },
  {
   "cell_type": "markdown",
   "metadata": {},
   "source": [
    "Note that in a model we treat `x` as an unknown, but we gave `x` a specific set of values above. It's an array of values from 0 to 15 in 0.1 increments.\n",
    "So, y is a set of values now too.\n",
    "Numpy arrays know how to interact with the basic operators like + and /, as Python support operator overloading."
   ]
  },
  {
   "cell_type": "code",
   "execution_count": 6,
   "metadata": {},
   "outputs": [
    {
     "data": {
      "text/plain": [
       "array([  5. ,   5.1,   5.2,   5.3,   5.4,   5.5,   5.6,   5.7,   5.8,\n",
       "         5.9,   6. ,   6.1,   6.2,   6.3,   6.4,   6.5,   6.6,   6.7,\n",
       "         6.8,   6.9,   7. ,   7.1,   7.2,   7.3,   7.4,   7.5,   7.6,\n",
       "         7.7,   7.8,   7.9,   8. ,   8.1,   8.2,   8.3,   8.4,   8.5,\n",
       "         8.6,   8.7,   8.8,   8.9,   9. ,   9.1,   9.2,   9.3,   9.4,\n",
       "         9.5,   9.6,   9.7,   9.8,   9.9,  10. ,  10.1,  10.2,  10.3,\n",
       "        10.4,  10.5,  10.6,  10.7,  10.8,  10.9,  11. ,  11.1,  11.2,\n",
       "        11.3,  11.4,  11.5,  11.6,  11.7,  11.8,  11.9,  12. ,  12.1,\n",
       "        12.2,  12.3,  12.4,  12.5,  12.6,  12.7,  12.8,  12.9,  13. ,\n",
       "        13.1,  13.2,  13.3,  13.4,  13.5,  13.6,  13.7,  13.8,  13.9,\n",
       "        14. ,  14.1,  14.2,  14.3,  14.4,  14.5,  14.6,  14.7,  14.8,\n",
       "        14.9,  15. ,  15.1,  15.2,  15.3,  15.4,  15.5,  15.6,  15.7,\n",
       "        15.8,  15.9,  16. ,  16.1,  16.2,  16.3,  16.4,  16.5,  16.6,\n",
       "        16.7,  16.8,  16.9,  17. ,  17.1,  17.2,  17.3,  17.4,  17.5,\n",
       "        17.6,  17.7,  17.8,  17.9,  18. ,  18.1,  18.2,  18.3,  18.4,\n",
       "        18.5,  18.6,  18.7,  18.8,  18.9,  19. ,  19.1,  19.2,  19.3,\n",
       "        19.4,  19.5,  19.6,  19.7,  19.8,  19.9])"
      ]
     },
     "execution_count": 6,
     "metadata": {},
     "output_type": "execute_result"
    }
   ],
   "source": [
    "y"
   ]
  },
  {
   "cell_type": "markdown",
   "metadata": {},
   "source": [
    "We'll use matplotlib's pyplot library to view the data in picture form."
   ]
  },
  {
   "cell_type": "code",
   "execution_count": 7,
   "metadata": {
    "collapsed": true
   },
   "outputs": [],
   "source": [
    "import matplotlib.pyplot as pl"
   ]
  },
  {
   "cell_type": "markdown",
   "metadata": {},
   "source": [
    "Tell pyplot to to prepare a plot of `x` versus `y`."
   ]
  },
  {
   "cell_type": "code",
   "execution_count": 8,
   "metadata": {},
   "outputs": [
    {
     "data": {
      "text/plain": [
       "[<matplotlib.lines.Line2D at 0x2179678b588>]"
      ]
     },
     "execution_count": 8,
     "metadata": {},
     "output_type": "execute_result"
    }
   ],
   "source": [
    "pl.plot(x, y, '.')"
   ]
  },
  {
   "cell_type": "markdown",
   "metadata": {},
   "source": [
    "Show the plot."
   ]
  },
  {
   "cell_type": "code",
   "execution_count": 9,
   "metadata": {},
   "outputs": [
    {
     "data": {
      "image/png": "[encoded data removed]",
      "text/plain": [
       "<matplotlib.figure.Figure at 0x21795d55b00>"
      ]
     },
     "metadata": {},
     "output_type": "display_data"
    }
   ],
   "source": [
    "pl.show()"
   ]
  },
  {
   "cell_type": "markdown",
   "metadata": {},
   "source": [
    "#### Introducing error\n",
    "In real world experiments, there is usually some measurement error - so let's add some to our simulation.\n",
    "We'll make an assumption about the measurement error here - that it's normally distributed about the true value."
   ]
  },
  {
   "cell_type": "code",
   "execution_count": 10,
   "metadata": {},
   "outputs": [
    {
     "data": {
      "text/plain": [
       "array([-0.65605615, -0.21324743, -0.95133831,  0.770921  , -2.15279698,\n",
       "       -0.57687102, -0.85731732, -0.10149752,  1.02570991, -1.46442522,\n",
       "       -0.35351658,  0.07427045, -0.11249601,  0.0189335 ,  0.81935539,\n",
       "        0.90951044, -1.96837677,  1.55560823, -1.51922449,  0.55350782,\n",
       "       -0.30886242,  0.7268481 ,  0.17469622, -0.33644218, -1.27427895,\n",
       "        0.28516773, -0.03694296,  1.29664111,  0.3482938 , -0.80071609,\n",
       "       -0.39164682,  2.58389597,  0.98177591,  0.14792955,  0.11481355,\n",
       "       -1.14754996,  0.87057845,  0.53204534,  0.71933662,  1.92073027,\n",
       "       -0.2219055 , -0.99031161,  0.31989582,  0.36830652, -0.79493467,\n",
       "       -0.655319  ,  0.64599812, -0.03007753, -1.39649672,  0.184325  ,\n",
       "        0.79097772, -0.66760872,  0.57912189, -1.86216179,  1.92173612,\n",
       "       -0.62790917, -0.49376834,  1.14023964, -1.85054559,  0.9577956 ,\n",
       "        1.01828315,  1.81543908,  0.61809347,  0.0996559 , -0.32665961,\n",
       "        1.62480309,  1.17650809, -0.05305191,  0.33064408, -0.61856382,\n",
       "       -0.46883866, -0.36708386,  0.53338066, -0.00501659, -0.02462778,\n",
       "        0.92104592,  0.52896789, -1.02834967, -1.0587693 ,  1.25769012,\n",
       "       -0.17417318, -0.81030423,  2.02968745, -0.16048365,  1.00398172,\n",
       "        1.18261892, -0.13843027, -1.59832057,  1.19242577,  0.06932785,\n",
       "        0.04393276, -1.0416964 ,  0.72392301, -0.81871559,  0.09917449,\n",
       "       -0.53805772,  1.37514487,  0.91544232,  0.4245931 ,  1.78248325,\n",
       "       -0.61436309,  0.37764736, -0.10893315, -0.49192466, -0.02481055,\n",
       "        2.16333263,  0.84330511, -0.94162911, -0.54224835, -1.5174976 ,\n",
       "       -1.04445908,  1.09136633,  0.50997241,  0.47029461, -0.56514679,\n",
       "       -0.85809965,  0.96118984,  0.41691424,  1.14263416, -0.47211889,\n",
       "        0.25278916, -0.88808353, -0.51609387,  0.10988058,  0.78851944,\n",
       "       -0.6611628 , -0.23534602,  0.95886522, -0.02444343,  0.78415407,\n",
       "       -0.67454564, -1.25265786, -0.74661497, -0.08463743,  0.49343882,\n",
       "        0.44922278,  1.04411759,  0.04239713, -0.58862934, -0.04372395,\n",
       "        0.1368749 , -0.69823843,  0.71309703, -0.33328376, -0.96633071,\n",
       "       -1.81522766,  0.35826081, -0.16135276, -0.27540275, -1.43863603])"
      ]
     },
     "execution_count": 10,
     "metadata": {},
     "output_type": "execute_result"
    }
   ],
   "source": [
    "noise = np.random.normal(0.0, 1.0, x.size)\n",
    "noise"
   ]
  },
  {
   "cell_type": "markdown",
   "metadata": {},
   "source": [
    "Let's have a look at the noise data.\n",
    "This kind of 2D plot doesn't make much sense as we only have one-dimensional data.\n",
    "The x-axis is just the position in the array the value occurs.\n",
    "However, it does serve to display how the values are fairly evenly balanced around 0 on the y-axis and are more likely to be close to it than further away."
   ]
  },
  {
   "cell_type": "code",
   "execution_count": 11,
   "metadata": {},
   "outputs": [
    {
     "data": {
      "text/plain": [
       "[<matplotlib.lines.Line2D at 0x2179686bf60>]"
      ]
     },
     "execution_count": 11,
     "metadata": {},
     "output_type": "execute_result"
    }
   ],
   "source": [
    "pl.plot(noise, '.')"
   ]
  },
  {
   "cell_type": "code",
   "execution_count": 12,
   "metadata": {},
   "outputs": [
    {
     "data": {
      "image/png": "[encoded data removed]",
      "text/plain": [
       "<matplotlib.figure.Figure at 0x217967cff98>"
      ]
     },
     "metadata": {},
     "output_type": "display_data"
    }
   ],
   "source": [
    "pl.show()"
   ]
  },
  {
   "cell_type": "code",
   "execution_count": 13,
   "metadata": {
    "collapsed": true
   },
   "outputs": [],
   "source": [
    "y_meas = y + noise"
   ]
  },
  {
   "cell_type": "code",
   "execution_count": 14,
   "metadata": {},
   "outputs": [
    {
     "data": {
      "image/png": "[encoded data removed]",
      "text/plain": [
       "<matplotlib.figure.Figure at 0x217968729b0>"
      ]
     },
     "metadata": {},
     "output_type": "display_data"
    }
   ],
   "source": [
    "pl.plot(x, y_meas, '.')\n",
    "pl.show()"
   ]
  },
  {
   "cell_type": "markdown",
   "metadata": {
    "scrolled": true
   },
   "source": [
    "#### Best fit\n",
    "From the data with the errors included, we can estimate the best `m` and `c` that fits the data.\n",
    "We know these values should be 1.0 and 5.0 respectively, but the error is random so they might not be exact."
   ]
  },
  {
   "cell_type": "code",
   "execution_count": 15,
   "metadata": {
    "collapsed": true
   },
   "outputs": [],
   "source": [
    "x_avg = np.mean(x)\n",
    "y_avg = np.mean(y_meas)\n",
    "\n",
    "x_norm = x - x_avg\n",
    "y_norm = y_meas - y_avg\n",
    "\n",
    "m_est = np.sum(x_norm * y_norm) / np.sum(x_norm * x_norm)\n",
    "c_est = y_avg - m_est * x_avg"
   ]
  },
  {
   "cell_type": "markdown",
   "metadata": {},
   "source": [
    "Here are the estimated values.\n",
    "As you can see, they are close to the true values."
   ]
  },
  {
   "cell_type": "code",
   "execution_count": 16,
   "metadata": {},
   "outputs": [
    {
     "data": {
      "text/plain": [
       "(0.99660192864758579, 5.0625360348159782)"
      ]
     },
     "execution_count": 16,
     "metadata": {},
     "output_type": "execute_result"
    }
   ],
   "source": [
    "m_est, c_est"
   ]
  },
  {
   "cell_type": "markdown",
   "metadata": {},
   "source": [
    "We can then calculate the predicted y values from the estimated parameters."
   ]
  },
  {
   "cell_type": "code",
   "execution_count": 17,
   "metadata": {
    "collapsed": true
   },
   "outputs": [],
   "source": [
    "y_est = (m_est * x) + c"
   ]
  },
  {
   "cell_type": "markdown",
   "metadata": {},
   "source": [
    "You can see in the following plot of both the original line (in red) and the estimated line that they are very close to each other. "
   ]
  },
  {
   "cell_type": "code",
   "execution_count": 18,
   "metadata": {},
   "outputs": [
    {
     "data": {
      "image/png": "[encoded data removed]",
      "text/plain": [
       "<matplotlib.figure.Figure at 0x21796aed080>"
      ]
     },
     "metadata": {},
     "output_type": "display_data"
    }
   ],
   "source": [
    "pl.plot(x, y, 'r-', label='Original')\n",
    "pl.plot(x, y_est, 'b-', label='Estimated')\n",
    "pl.plot(x, y_meas, 'k.', label='Measured')\n",
    "pl.legend()\n",
    "pl.show()"
   ]
  },
  {
   "cell_type": "markdown",
   "metadata": {},
   "source": [
    "We can also check how good a fit the model is, using the actual measured values to calculate it."
   ]
  },
  {
   "cell_type": "code",
   "execution_count": 19,
   "metadata": {},
   "outputs": [
    {
     "data": {
      "text/plain": [
       "0.95635159464457764"
      ]
     },
     "execution_count": 19,
     "metadata": {},
     "output_type": "execute_result"
    }
   ],
   "source": [
    "r_sq = 1 - np.sum((y_meas - y_est)**2) / np.sum(y_norm**2)\n",
    "r_sq"
   ]
  },
  {
   "cell_type": "markdown",
   "metadata": {
    "collapsed": true
   },
   "source": [
    "#### End"
   ]
  }
 ],
 "metadata": {
  "kernelspec": {
   "display_name": "Python 3",
   "language": "python",
   "name": "python3"
  },
  "language_info": {
   "codemirror_mode": {
    "name": "ipython",
    "version": 3
   },
   "file_extension": ".py",
   "mimetype": "text/x-python",
   "name": "python",
   "nbconvert_exporter": "python",
   "pygments_lexer": "ipython3",
   "version": "3.6.2"
  }
 },
 "nbformat": 4,
 "nbformat_minor": 2
}
