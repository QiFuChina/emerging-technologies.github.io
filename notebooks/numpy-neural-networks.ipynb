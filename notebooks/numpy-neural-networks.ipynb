{
 "cells": [
  {
   "cell_type": "markdown",
   "metadata": {},
   "source": [
    "# Neural networks from scratch in numpy"
   ]
  },
  {
   "cell_type": "code",
   "execution_count": 1,
   "metadata": {
    "collapsed": true
   },
   "outputs": [],
   "source": [
    "import numpy as np"
   ]
  },
  {
   "cell_type": "code",
   "execution_count": 32,
   "metadata": {},
   "outputs": [
    {
     "data": {
      "text/plain": [
       "array([ array([[-0.66096493, -0.95838123,  1.3799355 ],\n",
       "       [-0.05332993, -1.42056012,  1.14389775],\n",
       "       [ 1.42393099,  0.70116833, -0.36125577],\n",
       "       [ 0.61930286, -0.36290436,  0.82547671],\n",
       "       [-0.98394985,  0.18195118,  0.90239855]]),\n",
       "       array([[ 0.26074456,  1.24635041,  0.88711555,  0.30937737,  0.04189544,\n",
       "        -0.04728486],\n",
       "       [ 0.26316965,  0.26526345, -0.37502034, -0.13513865,  0.08272276,\n",
       "         0.34633957]])], dtype=object)"
      ]
     },
     "execution_count": 32,
     "metadata": {},
     "output_type": "execute_result"
    }
   ],
   "source": [
    "def initialise(no_nodes, mean=0.0, std=1.0):\n",
    "  return np.array([np.random.normal(mean, std, [no_nodes[i], no_nodes[i-1] + 1]) for i in range(1, len(no_nodes))])"
   ]
  },
  {
   "cell_type": "code",
   "execution_count": 40,
   "metadata": {},
   "outputs": [],
   "source": [
    "a1 = lambda x: np.append(x, 1)\n",
    "\n",
    "def forward(nn, x):\n",
    "  output = x\n",
    "  for w in nn:\n",
    "    output = np.matmul(w, a1(output))\n",
    "  return output"
   ]
  },
  {
   "cell_type": "code",
   "execution_count": 43,
   "metadata": {
    "scrolled": true
   },
   "outputs": [
    {
     "name": "stdout",
     "output_type": "stream",
     "text": [
      "[[ 0.27161725  1.78087101 -0.42150931]\n",
      " [-0.09080921  0.03007615 -0.71335641]\n",
      " [-0.79564211  0.9589674  -0.5994841 ]\n",
      " [ 0.05740645 -0.5621717   0.1388476 ]\n",
      " [-1.77750533 -0.53832555  0.35367368]]\n",
      "[[-0.1179016  -1.56026012  1.10083201 -1.72503424  0.89069955 -0.71935216]\n",
      " [-0.11133676 -1.14092328 -0.24595381  0.92371093 -3.95579506 -0.44551755]]\n",
      "[-0.01142893  8.92900453]\n"
     ]
    }
   ],
   "source": [
    "nn = initialise([2, 5, 2])\n",
    "p = forward(nn, np.array([1, 2]))\n",
    "\n",
    "for i in nn:\n",
    "  print(i)\n",
    "print(p)"
   ]
  },
  {
   "cell_type": "code",
   "execution_count": 96,
   "metadata": {},
   "outputs": [],
   "source": [
    "inputs = np.random.uniform(0, 1, [1000, 2])\n",
    "outputs = np.column_stack([inputs[:, 0] <= inputs[:, 1], inputs[:, 0] > inputs[:, 1]]).astype(float)\n",
    "\n",
    "#inputs, outputs"
   ]
  },
  {
   "cell_type": "code",
   "execution_count": 99,
   "metadata": {},
   "outputs": [
    {
     "data": {
      "image/png": "[encoded data removed]",
      "text/plain": [
       "<matplotlib.figure.Figure at 0x1e7e74e2a90>"
      ]
     },
     "metadata": {},
     "output_type": "display_data"
    }
   ],
   "source": [
    "import matplotlib.pyplot as pl\n",
    "\n",
    "blue = inputs[inputs[:, 0] <= inputs[:, 1]]\n",
    "yell = inputs[inputs[:, 0] > inputs[:, 1]]\n",
    "\n",
    "pl.plot(blue[:,0], blue[:,1], 'b.')\n",
    "pl.plot(yell[:,0], yell[:,1], 'y.')\n",
    "\n",
    "pl.show()"
   ]
  },
  {
   "cell_type": "code",
   "execution_count": 101,
   "metadata": {},
   "outputs": [
    {
     "ename": "ValueError",
     "evalue": "shapes (5,3) and (2001,) not aligned: 3 (dim 1) != 2001 (dim 0)",
     "output_type": "error",
     "traceback": [
      "\u001b[1;31m---------------------------------------------------------------------------\u001b[0m",
      "\u001b[1;31mValueError\u001b[0m                                Traceback (most recent call last)",
      "\u001b[1;32m<ipython-input-101-15fc79616c2e>\u001b[0m in \u001b[0;36m<module>\u001b[1;34m()\u001b[0m\n\u001b[1;32m----> 1\u001b[1;33m \u001b[0mforward\u001b[0m\u001b[1;33m(\u001b[0m\u001b[0mnn\u001b[0m\u001b[1;33m,\u001b[0m \u001b[0minputs\u001b[0m\u001b[1;33m)\u001b[0m\u001b[1;33m\u001b[0m\u001b[0m\n\u001b[0m",
      "\u001b[1;32m<ipython-input-40-695f6abd05a6>\u001b[0m in \u001b[0;36mforward\u001b[1;34m(nn, x)\u001b[0m\n\u001b[0;32m      4\u001b[0m   \u001b[0moutput\u001b[0m \u001b[1;33m=\u001b[0m \u001b[0mx\u001b[0m\u001b[1;33m\u001b[0m\u001b[0m\n\u001b[0;32m      5\u001b[0m   \u001b[1;32mfor\u001b[0m \u001b[0mw\u001b[0m \u001b[1;32min\u001b[0m \u001b[0mnn\u001b[0m\u001b[1;33m:\u001b[0m\u001b[1;33m\u001b[0m\u001b[0m\n\u001b[1;32m----> 6\u001b[1;33m     \u001b[0moutput\u001b[0m \u001b[1;33m=\u001b[0m \u001b[0mnp\u001b[0m\u001b[1;33m.\u001b[0m\u001b[0mmatmul\u001b[0m\u001b[1;33m(\u001b[0m\u001b[0mw\u001b[0m\u001b[1;33m,\u001b[0m \u001b[0ma1\u001b[0m\u001b[1;33m(\u001b[0m\u001b[0moutput\u001b[0m\u001b[1;33m)\u001b[0m\u001b[1;33m)\u001b[0m\u001b[1;33m\u001b[0m\u001b[0m\n\u001b[0m\u001b[0;32m      7\u001b[0m   \u001b[1;32mreturn\u001b[0m \u001b[0moutput\u001b[0m\u001b[1;33m\u001b[0m\u001b[0m\n",
      "\u001b[1;31mValueError\u001b[0m: shapes (5,3) and (2001,) not aligned: 3 (dim 1) != 2001 (dim 0)"
     ]
    }
   ],
   "source": [
    "forward(nn, inputs)"
   ]
  },
  {
   "cell_type": "code",
   "execution_count": null,
   "metadata": {
    "collapsed": true
   },
   "outputs": [],
   "source": []
  }
 ],
 "metadata": {
  "kernelspec": {
   "display_name": "Python 3",
   "language": "python",
   "name": "python3"
  },
  "language_info": {
   "codemirror_mode": {
    "name": "ipython",
    "version": 3
   },
   "file_extension": ".py",
   "mimetype": "text/x-python",
   "name": "python",
   "nbconvert_exporter": "python",
   "pygments_lexer": "ipython3",
   "version": "3.6.2"
  }
 },
 "nbformat": 4,
 "nbformat_minor": 2
}
